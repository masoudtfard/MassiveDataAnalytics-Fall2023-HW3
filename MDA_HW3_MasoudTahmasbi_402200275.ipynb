{
  "cells": [
    {
      "cell_type": "markdown",
      "id": "f6b7fea8-657b-4000-af79-5786e775a493",
      "metadata": {
        "id": "f6b7fea8-657b-4000-af79-5786e775a493"
      },
      "source": [
        "***\n",
        "<center><img src='https://github.com/HesamAsad/HesamAsad.github.io/blob/main/images/LOGO_EN_blue.png?raw=true' width=250/></center>\n",
        "\n",
        "# <center>\n",
        "## <center><span style='font-family:\"Times New Roman\"'><span style='background:dark'>  <font color='#1966ab'>$\\LARGE{\\text{Sharif University of Technology}}$</font>  <br>  <br>  <font color='#FFFFCC'>$\\Large{\\text{Masoud Tahmasbi}}$ </font> <br> <font color='#FFFFCC'>$\\normalsize {\\text{Student ID: } 402200275}$ </font>  <br>  <br> <font color='#33FFCC'>$\\large{\\text{EE577: Massive Data Analytics}}$</font> <br>  <font color='#FFFF00'>$\\normalsize{\\text{Assignment #3 - Twitter User Engagement Recommender System}}$ </font>\n",
        "<br>\n",
        "\n",
        "***"
      ]
    },
    {
      "cell_type": "markdown",
      "source": [
        "# $\\text{Data Preparation}$"
      ],
      "metadata": {
        "id": "D-KH48GgrPp4"
      },
      "id": "D-KH48GgrPp4"
    },
    {
      "cell_type": "code",
      "execution_count": null,
      "metadata": {
        "id": "237c3551"
      },
      "outputs": [],
      "source": [
        "! pip install pyspark"
      ],
      "id": "237c3551"
    },
    {
      "cell_type": "code",
      "execution_count": null,
      "metadata": {
        "id": "Xmb3CBId6UCQ"
      },
      "outputs": [],
      "source": [
        "from google.colab import drive\n",
        "drive.mount('/content/gdrive')\n",
        "\n",
        "!cp '/content/gdrive/My Drive/twitter_data_v2.tar.gz' twitter_data\n",
        "!tar -xzvf \"/content/twitter_data\""
      ],
      "id": "Xmb3CBId6UCQ"
    },
    {
      "cell_type": "code",
      "execution_count": null,
      "metadata": {
        "id": "3706a8d1"
      },
      "outputs": [],
      "source": [
        "from pyspark.sql import SparkSession\n",
        "spark = SparkSession \\\n",
        "    .builder \\\n",
        "    .appName(\"HW3\") \\\n",
        "    .master(\"local[*]\") \\\n",
        "    .getOrCreate()\n",
        "\n",
        "sc=spark.sparkContext"
      ],
      "id": "3706a8d1"
    },
    {
      "cell_type": "code",
      "execution_count": null,
      "id": "5f15f0a8-9df7-4fff-9283-a19a30c6a4c0",
      "metadata": {
        "id": "5f15f0a8-9df7-4fff-9283-a19a30c6a4c0"
      },
      "outputs": [],
      "source": [
        "twitter_rdd = sc.textFile(\"twitter_data_v2.jsonl\")"
      ]
    },
    {
      "cell_type": "code",
      "execution_count": null,
      "id": "e0782792-6687-41a6-acd4-afd5665c07f3",
      "metadata": {
        "id": "e0782792-6687-41a6-acd4-afd5665c07f3",
        "outputId": "2d4a18eb-1941-48ce-c1c2-c74fef9ababb"
      },
      "outputs": [
        {
          "name": "stderr",
          "output_type": "stream",
          "text": [
            "                                                                                \r"
          ]
        },
        {
          "data": {
            "text/plain": [
              "4175860"
            ]
          },
          "execution_count": 8,
          "metadata": {},
          "output_type": "execute_result"
        }
      ],
      "source": [
        "import json\n",
        "parsed_rdd = twitter_rdd.map(lambda x: json.loads(x))\n",
        "parsed_rdd.count()"
      ]
    },
    {
      "cell_type": "code",
      "execution_count": null,
      "id": "21359f6b-ecce-4e20-a62a-be07a4a56bc0",
      "metadata": {
        "id": "21359f6b-ecce-4e20-a62a-be07a4a56bc0",
        "outputId": "d6040b31-71e5-4913-a383-7f6af196370d"
      },
      "outputs": [
        {
          "name": "stderr",
          "output_type": "stream",
          "text": [
            "                                                                                \r"
          ]
        },
        {
          "data": {
            "text/plain": [
              "[{'in_reply_to_status_id_str': None,\n",
              "  'in_reply_to_user_id_str': None,\n",
              "  'in_reply_to_status_id': None,\n",
              "  'in_reply_to_user_id': None,\n",
              "  'in_reply_to_screen_name': None,\n",
              "  'truncated': False,\n",
              "  'is_quote_status': False,\n",
              "  'retweet_count': 20,\n",
              "  'reply_count': 0,\n",
              "  'quote_count': 0,\n",
              "  'favorite_count': 0,\n",
              "  'favorited': False,\n",
              "  'retweeted': True,\n",
              "  'possibly_sensitive': None,\n",
              "  'lang': 'fa',\n",
              "  'geo': None,\n",
              "  'view_count': 0,\n",
              "  'tweet_type': 'retweeted',\n",
              "  'emojis': None,\n",
              "  'text': 'فک کن بچه رو کشتن، بچه ۲۰ ساله، حالام میخوان مادرش رو ۵ سال ببرن زندان.\\nواقعا آخوند چه کثافتی هست که این بی پدرا انداختن تو زندگی ما.\\n#محمدجواد_زاهدی\\n#مهسا_یزدانی',\n",
              "  'user': {'id': '1565039849287172096',\n",
              "   'id_str': '1565039849287172096',\n",
              "   'created_at': 1661969566,\n",
              "   'name': 'Negin',\n",
              "   'screen_name': 'Negin88419550',\n",
              "   'location': '',\n",
              "   'description': '',\n",
              "   'verified': False,\n",
              "   'followers_count': 20,\n",
              "   'friends_count': 4,\n",
              "   'listed_count': 0,\n",
              "   'favourites_count': 15093,\n",
              "   'statuses_count': 4389,\n",
              "   'profile_image_url': 'https://abs.twimg.com/sticky/default_profile_images/default_profile_normal.png',\n",
              "   'geo_enabled': False,\n",
              "   'profile_image_url_https': 'https://abs.twimg.com/sticky/default_profile_images/default_profile_normal.png',\n",
              "   'default_profile': True,\n",
              "   'default_profile_image': True},\n",
              "  'entities': {'urls': [],\n",
              "   'hashtags': [],\n",
              "   'symbols': [],\n",
              "   'user_mentions': [{'screen_name': 'DarkSheepRise',\n",
              "     'name': 'ببعی تنهای شب(اوباشگر)'}]},\n",
              "  'retweeted_status': {'id': '1735327845876936896',\n",
              "   'created_at': 1702569373,\n",
              "   'user': {'id': '714591154138914816',\n",
              "    'id_str': '714591154138914816',\n",
              "    'created_at': 1459206782,\n",
              "    'name': 'ببعی تنهای شب(اوباشگر)',\n",
              "    'screen_name': 'DarkSheepRise',\n",
              "    'location': 'Spain',\n",
              "    'description': 'نماینده منتخب مردم در شورای ائتلافی گذار از جمهوری اسلامی',\n",
              "    'verified': False,\n",
              "    'followers_count': 3576,\n",
              "    'friends_count': 1103,\n",
              "    'listed_count': 10,\n",
              "    'favourites_count': 88717,\n",
              "    'statuses_count': 73511,\n",
              "    'profile_image_url': 'https://pbs.twimg.com/profile_images/1724321146613473280/L8DCW0RL_normal.jpg',\n",
              "    'geo_enabled': True,\n",
              "    'profile_image_url_https': 'https://pbs.twimg.com/profile_images/1724321146613473280/L8DCW0RL_normal.jpg',\n",
              "    'profile_banner_url': 'https://pbs.twimg.com/profile_banners/714591154138914816/1599918940',\n",
              "    'default_profile': True,\n",
              "    'default_profile_image': False}},\n",
              "  'engagement': 20,\n",
              "  'impression': 0,\n",
              "  'possible_reach': 0.0,\n",
              "  'influence': 1.0,\n",
              "  'impression_rate': 0.0,\n",
              "  'engagement_rate': 0.0046,\n",
              "  'twitter_engagement_rate': 0,\n",
              "  'timestamp': 1705533561,\n",
              "  'index_version': 1,\n",
              "  'created_at': 1702591796,\n",
              "  'id': '1735421893681795425',\n",
              "  'tweet_source_type': None}]"
            ]
          },
          "execution_count": 9,
          "metadata": {},
          "output_type": "execute_result"
        }
      ],
      "source": [
        "parsed_rdd.takeSample(False,1,112)"
      ]
    },
    {
      "cell_type": "code",
      "execution_count": null,
      "id": "16f7e68f-f400-46d0-8c92-0df5b07dfff6",
      "metadata": {
        "id": "16f7e68f-f400-46d0-8c92-0df5b07dfff6"
      },
      "outputs": [],
      "source": [
        "# parsed_rdd.takeSample(False,1,12)"
      ]
    },
    {
      "cell_type": "code",
      "execution_count": null,
      "id": "400df98b-558f-4409-9adc-333789993730",
      "metadata": {
        "id": "400df98b-558f-4409-9adc-333789993730"
      },
      "outputs": [],
      "source": [
        "# parsed_rdd.takeSample(False,1,312)"
      ]
    },
    {
      "cell_type": "code",
      "execution_count": null,
      "id": "e0dce931-f233-4315-ace6-73efbee31796",
      "metadata": {
        "id": "e0dce931-f233-4315-ace6-73efbee31796"
      },
      "outputs": [],
      "source": [
        "# parsed_rdd.takeSample(False,1,98)"
      ]
    },
    {
      "cell_type": "code",
      "execution_count": null,
      "id": "bfd40115-a897-4201-9752-f2170eea654e",
      "metadata": {
        "id": "bfd40115-a897-4201-9752-f2170eea654e"
      },
      "outputs": [],
      "source": [
        "# parsed_rdd.takeSample(False,1,48)"
      ]
    },
    {
      "cell_type": "markdown",
      "source": [
        "***\n",
        "# $\\text{Creating User Engagement RDD}$"
      ],
      "metadata": {
        "id": "_j5I2AIwNcHh"
      },
      "id": "_j5I2AIwNcHh"
    },
    {
      "cell_type": "code",
      "execution_count": null,
      "id": "19a9ec8e-6f1f-46ec-8ceb-baef73f75565",
      "metadata": {
        "id": "19a9ec8e-6f1f-46ec-8ceb-baef73f75565"
      },
      "outputs": [],
      "source": [
        "def scoring(tweet, generate_score=3, quote_score=2, reply_score=2, retweet_score=1):\n",
        "    if tweet.get('tweet_type') == 'generated':\n",
        "        try:\n",
        "            generator_uid = tweet.get('user').get('id')\n",
        "        except: return []\n",
        "        try:\n",
        "            generated_tweet_id = tweet.get('id')\n",
        "        except: return []\n",
        "\n",
        "        return [(generator_uid,\n",
        "                 [(generator_uid,generated_tweet_id,generate_score)])]\n",
        "        # structure: (generator_uid, [(generator_uid,generated_tweet_id,generate_score)])\n",
        "\n",
        "    if tweet.get('tweet_type') == 'quoted':\n",
        "        try:\n",
        "            quoting_uid = tweet.get('user').get('id')\n",
        "        except: return []\n",
        "        try:\n",
        "            quoted_uid = tweet.get('quoted_status').get('user').get('id')\n",
        "        except: return []\n",
        "        try:\n",
        "            quoted_tweet_id = tweet.get('quoted_status').get('id')\n",
        "        except: return []\n",
        "\n",
        "        return [(quoting_uid,\n",
        "                 [(quoted_uid,quoted_tweet_id,quote_score)])]\n",
        "    # structure: (quoting_uid, [(quoted_uid,quoted_tweet_id,quote_score)])\n",
        "\n",
        "    if tweet.get('tweet_type') == 'replied':\n",
        "        try:\n",
        "            replying_uid = tweet.get('user').get('id')\n",
        "        except: return []\n",
        "        try:\n",
        "            replied_uid = tweet.get('in_reply_to_user_id_str')\n",
        "        except: return []\n",
        "        try:\n",
        "            replied_tweet_id = tweet.get('in_reply_to_status_id_str')\n",
        "        except: return []\n",
        "\n",
        "        return [(replying_uid,\n",
        "                 [(replied_uid,replied_tweet_id,reply_score)])]\n",
        "    # structure: (replying_uid, [(replied_uid,replied_tweet_id,reply_score)])\n",
        "\n",
        "    if tweet.get('tweet_type') == 'retweeted':\n",
        "        try:\n",
        "            retweeting_uid = tweet.get('user').get('id')\n",
        "        except: return []\n",
        "        try:\n",
        "            retweeted_uid = tweet.get('retweeted_status').get('user').get('id')\n",
        "        except: return []\n",
        "        try:\n",
        "            retweeted_tweet_id = tweet.get('retweeted_status').get('id')\n",
        "        except: return []\n",
        "\n",
        "        return [(retweeting_uid,\n",
        "                 [(retweeted_uid,retweeted_tweet_id,retweet_score)])]\n",
        "    # structure: (retweeting_uid, [(retweeted_uid,retweeted_tweet_id,retweet_score)])"
      ]
    },
    {
      "cell_type": "code",
      "execution_count": null,
      "id": "3fac9126-a157-4f94-8419-55bf7cb696b2",
      "metadata": {
        "id": "3fac9126-a157-4f94-8419-55bf7cb696b2",
        "outputId": "b4e724f9-1cd4-4cb9-92a5-f87da248ee9a"
      },
      "outputs": [
        {
          "name": "stderr",
          "output_type": "stream",
          "text": [
            "                                                                                \r"
          ]
        },
        {
          "data": {
            "text/plain": [
              "3990340"
            ]
          },
          "execution_count": 11,
          "metadata": {},
          "output_type": "execute_result"
        }
      ],
      "source": [
        "scores_rdd = parsed_rdd.flatMap(lambda x:scoring(x))\n",
        "scores_rdd.count()"
      ]
    },
    {
      "cell_type": "code",
      "execution_count": null,
      "id": "3f0a47cc-f0a9-4b2e-9968-7b588541c415",
      "metadata": {
        "id": "3f0a47cc-f0a9-4b2e-9968-7b588541c415",
        "outputId": "f36f23a7-1176-4152-8209-e8a47997f53d"
      },
      "outputs": [
        {
          "name": "stderr",
          "output_type": "stream",
          "text": [
            "                                                                                \r"
          ]
        },
        {
          "data": {
            "text/plain": [
              "296851"
            ]
          },
          "execution_count": 12,
          "metadata": {},
          "output_type": "execute_result"
        }
      ],
      "source": [
        "grouped_rdd = scores_rdd.reduceByKey(lambda a,b: a+b)\n",
        "grouped_rdd.count()"
      ]
    },
    {
      "cell_type": "markdown",
      "id": "f94f042a-1a8b-4cac-8a56-0cb14e2cb386",
      "metadata": {
        "id": "f94f042a-1a8b-4cac-8a56-0cb14e2cb386"
      },
      "source": [
        "***\n",
        "# $\\text{Type #1 User}$"
      ]
    },
    {
      "cell_type": "code",
      "execution_count": null,
      "id": "4f0f1aa9-e505-46a7-8896-c82bea0a4f9e",
      "metadata": {
        "id": "4f0f1aa9-e505-46a7-8896-c82bea0a4f9e",
        "outputId": "57b07228-cc87-4157-f3d2-2700dafd9c70"
      },
      "outputs": [
        {
          "name": "stderr",
          "output_type": "stream",
          "text": [
            "                                                                                \r"
          ]
        },
        {
          "data": {
            "text/plain": [
              "('1697206791715635200',\n",
              " [('1710302619371982848', '1736250426230493213', 1),\n",
              "  ('1710302619371982848', '1736250178363883872', 1),\n",
              "  ('1710302619371982848', '1736249928018764235', 1),\n",
              "  ('1578454116107517962', '1735951927584682444', 2),\n",
              "  ('1633911157755879425', '1736108738921033809', 1),\n",
              "  ('1654409094076268546', '1736287140860829901', 1),\n",
              "  ('1205723159984574464', '1736622445505741159', 2),\n",
              "  ('1654179648761102337', '1734655981412573264', 1),\n",
              "  ('1654179648761102337', '1734657820010991962', 1),\n",
              "  ('1654179648761102337', '1734661707908120774', 1),\n",
              "  ('1654179648761102337', '1734661220601352349', 1),\n",
              "  ('1654179648761102337', '1734659777710498122', 1),\n",
              "  ('1654179648761102337', '1734658201302577473', 1),\n",
              "  ('1398658879827886085', '1734656185226424457', 2),\n",
              "  ('1710302619371982848', '1734799518305034308', 2),\n",
              "  ('1710302619371982848', '1734798971577536976', 1),\n",
              "  ('1710302619371982848', '1734798971577536976', 2),\n",
              "  ('1710302619371982848', '1734798173476950425', 1),\n",
              "  ('1697206791715635200', '1734826498190717030', 3),\n",
              "  ('1147519752740491266', '1734531657623859526', 1),\n",
              "  ('1659343792422395907', '1734526333823176854', 1),\n",
              "  ('1489683639180869634', '1734555309257982198', 1),\n",
              "  ('1697206791715635200', '1734830893259239623', 3),\n",
              "  ('1531280126398300160', '1736287052885336178', 1),\n",
              "  ('1206255190501920768', '1734613998107086944', 1),\n",
              "  ('1228011462590914560', '1734568158986375391', 1),\n",
              "  ('1593669637102866432', '1734545449514582130', 1),\n",
              "  ('1710903076574359552', '1734591710326370694', 1),\n",
              "  ('1593669637102866432', '1734591032791060488', 1),\n",
              "  ('1698191107786518528', '1734876907928264981', 1),\n",
              "  ('1710903076574359552', '1734589323377352980', 1),\n",
              "  ('1724483603600486400', '1734887227686047878', 2),\n",
              "  ('1648401324608827392', '1734588341004181625', 1),\n",
              "  ('1648401324608827392', '1734589532039741549', 1),\n",
              "  ('1648401324608827392', '1734589532039741549', 2),\n",
              "  ('1697206791715635200', '1734830893259239623', 2),\n",
              "  ('1253707166919397377', '1734813269620048114', 1),\n",
              "  ('1305617097339400192', '1734590919716765976', 1),\n",
              "  ('1253707166919397377', '1734541649462649082', 2),\n",
              "  ('1648401324608827392', '1734588709524136318', 1),\n",
              "  ('1226113547542773762', '1734613510997397685', 1),\n",
              "  ('1226113547542773762', '1734613510997397685', 2),\n",
              "  ('1389925813575892996', '1734549000622051631', 1),\n",
              "  ('1597334359345864707', '1734579905252209035', 1),\n",
              "  ('1714031594598490113', '1734536728877154500', 1),\n",
              "  ('1305489035541049344', '1734540761868202400', 1),\n",
              "  ('1593669637102866432', '1734540640837419434', 1),\n",
              "  ('1221434210927464448', '1734562848087388436', 1),\n",
              "  ('1697206791715635200', '1736345546997088650', 3),\n",
              "  ('1696453872074539008', '1733927496456794435', 1),\n",
              "  ('1696453872074539008', '1733927496456794435', 2),\n",
              "  ('1643233712916578309', '1734918783771250916', 1),\n",
              "  ('1697206791715635200', '1734998874064912711', 3),\n",
              "  ('1697206791715635200', '1735000541858504730', 3),\n",
              "  ('1697206791715635200', '1735003971243192520', 3),\n",
              "  ('1591547142136627202', '1736076770128851061', 1),\n",
              "  ('1684940226769149952', '1736046266474262648', 1),\n",
              "  ('1448281633552019464', '1735995782283555029', 1),\n",
              "  ('1697206791715635200', '1736079804095517131', 3),\n",
              "  ('1425005744257069057', '1733027686677717325', 1),\n",
              "  ('1398658879827886085', '1736023600539328584', 1),\n",
              "  ('1654179648761102337', '1736068818160533903', 1),\n",
              "  ('1654179648761102337', '1736068403750695299', 1),\n",
              "  ('1654179648761102337', '1735262181023695354', 1),\n",
              "  ('1697206791715635200', '1735731570865000582', 3)])"
            ]
          },
          "execution_count": 247,
          "metadata": {},
          "output_type": "execute_result"
        }
      ],
      "source": [
        "target_user = grouped_rdd.takeSample(False,1,55)[0]\n",
        "target_user"
      ]
    },
    {
      "cell_type": "code",
      "execution_count": null,
      "id": "0d20d177-5162-47bb-a4ca-39b45a5ccdb0",
      "metadata": {
        "id": "0d20d177-5162-47bb-a4ca-39b45a5ccdb0"
      },
      "outputs": [],
      "source": [
        "def target_user_tweets_parser(target_user,tweet):\n",
        "    target_user_tweets_id = [tweets[1] for tweets in target_user[1]]\n",
        "\n",
        "    if tweet.get('id') in target_user_tweets_id:\n",
        "        return [(tweet.get('text'),tweet.get('tweet_type'))]\n",
        "    else:\n",
        "        return []"
      ]
    },
    {
      "cell_type": "code",
      "execution_count": null,
      "id": "7d07b186-94ac-4d0c-a15e-3c9930e4b206",
      "metadata": {
        "id": "7d07b186-94ac-4d0c-a15e-3c9930e4b206",
        "outputId": "f6a457ef-dbf6-4187-ee46-5c0269af42f5"
      },
      "outputs": [
        {
          "name": "stderr",
          "output_type": "stream",
          "text": [
            "                                                                                \r"
          ]
        },
        {
          "data": {
            "text/plain": [
              "[('وصیت نامه یکی از  شهدای بزرگوار :  خدایا نشود که در زندگی دو دستی به درخت زندگی بچسبم و همچون میوه ایی پوسیده بیافتم خدایا تا ایمانی هست مرا برای خود قربانی کن\\n#گمنام_مثل_مادر\\n#لشکر_علویان https://t.co/CzBw8KoKmM',\n",
              "  'generated'),\n",
              " ('زندگی پر از انتخاب هایی است که مسیر ها رو عوض می\\u200cکنند، اینکه قهرمان زندگی چه شخصی باشه در عاقبت بخیری خیلی مهمه\\n#گمنام_مثل_مادر\\n#لشکر_علویان https://t.co/QGEkchpZl4',\n",
              "  'generated'),\n",
              " ('حضور مردم قدر شناس دیار علویان در مراسم وداع با لاله\\u200cها\\n#وداع_با_لاله\\u200cها\\n#گمنام_مثل_مادر https://t.co/JWvgiokZzn',\n",
              "  'generated'),\n",
              " ('دیار علویان و مردم همیشه در صحنه\\n#وداع_با_لاله\\u200cها\\n#گمنام_مثل_مادر https://t.co/1NNoFp1AGe',\n",
              "  'generated'),\n",
              " ('در پی اسم و...\\n#گمنام_مثل_مادر\\n#وداع_با_لاله\\u200cها https://t.co/QgF5gIXki9',\n",
              "  'generated'),\n",
              " ('قبلا باور نمی کردم؛ولی باچشمان خودم می بینم همونایکه دم از وحدت و برادری می زنند،متأسفانه اینجا علیه مقدسات اهل\\u200cسنت قلم\\u200c می زنند،توهین می کنند و یه آب هم میزنن تنگش!نمی دونم فازشون چیه!شمایکه خودتون رو پیرو رهبری فرزانه مان میدونید،چجور از آن\\u200cهمه توصیه وتأکیداتشون اطاعت نمی کنید؟',\n",
              "  'generated'),\n",
              " ('شهید گمنام سلام\\n\\n    خوش\\u200c اومدی\\u200c مسافر من\\n\\n                    خسته نباشی پهلوون\\n\\nو اینک رهروان مکتب حاج قاسم در بابل ،فرزندان خوشنام وطن را در آغوش میکشد💔\\n\\n#گمنام_مثل_مادر\\n#لشکر_علویان https://t.co/W8TdS4BqlM',\n",
              "  'generated'),\n",
              " ('شهید گمنام سلام \\nآمدنت چه آمدنیست که عجب هوای شهر \\nبوی مادر میدهد \\n#وداع_با_لاله\\u200cها \\n#گمنام_مثل_مادر',\n",
              "  'generated'),\n",
              " ('چه زیباست ..\\nخاطرات مردانی که پروای نام ندارند و در کهف گمنامی هستند 🤲\\n#گمنام_مثل_مادر\\n#لشکر_علویان https://t.co/Zj4jzA9tCG',\n",
              "  'generated'),\n",
              " ('گمنام بمان شهید عزیز\\nبخدا گمنام بودن زیباست\\nتو نشان از مادر داری گمنام بمان\\n#لشکر_علویان\\n#گمنام_مثل_مادر',\n",
              "  'generated'),\n",
              " ('دیار علویان این روزها مهمان دارد\\nمهمانانی ویژه از سال\\u200cهای حماسه و دفاع مقدس\\nمهمانانی که #گمنام_مثل_مادر هستند \\n\\n#لشکر_علویان https://t.co/ioQCzwZBqC',\n",
              "  'generated'),\n",
              " ('شهید گمنام مایه برکت برای نظام و باعث وحدت و همدلی میشود.\\n#گمنام_مثل_مادر\\n#لشکر_علویان',\n",
              "  'generated'),\n",
              " ('ای وای مادرم ...\\n\\n#لشکر_علویان \\n#گمنام_مثل_مادر https://t.co/txQ2sm4WuU',\n",
              "  'generated'),\n",
              " ('نمایشگاه محلات مهدوی ثابت کرده که همکاری و همدلی مردم یک محله، با راهبری امام جماعت\\xa0 میتونه چه گره هایی رو باز کنه\\n#گمنام_مثل_مادر  #لشکر_علویان',\n",
              "  'generated'),\n",
              " ('درود خدا بر او که میگفت:\\n\"شیعه ها!مسلمونا!حزب اللّهی ها! بسیجی ها!\\nنگذارید تاریخ مظلومیت شیعه تکرار شود\"\\n\\nهدیه به روح مطهر شهید آقا سید مجتبی علمدار صلوات\\n#گمنام_مثل_مادر\\n#لشکر_علویان https://t.co/yrMqPNLgVq',\n",
              "  'generated'),\n",
              " ('یافاطمه الزهرا (سلام الله علیها)\\nمادری کن برایم ؛ \\nهمانطور که برای شهدا مادری کردی.\\n\\n#لشکر_علویان \\n#گمنام_مثل_مادر https://t.co/mFkffpE7fQ',\n",
              "  'generated'),\n",
              " ('خانه دار، مجاهد، عابد\\nاین سه بعد را با هم جمع کردن، نقطه درخشان زندگی فاطمه\\u200cی\\u200cزهرا(س)است.\\n_رهبر\\u200cمعظم\\u200cانقلاب\\n#وداع_با_لاله\\u200cها\\n#روایت_عشق',\n",
              "  'generated'),\n",
              " ('بسم رب شهدا و صدیقین\\nسلام بر آنانی که اول\\nاز ســیم خاردار نفس گذشتند\\nو بعداز سیم خار دار دشمن \\nسلام\\u200c بــرشهدا..\\n#وداع_با_لاله\\u200cها\\n#فاطمیون https://t.co/FlqJqWIITa',\n",
              "  'generated'),\n",
              " ('میهمان داریم!  #گمنام_مثل_مادر\\nچشمان کدام مادر هنوز در حسرت دیدن همین تکه استخوان های شما به در دوخته شده #همسفر_بصیر https://t.co/FzfAQGvL1N',\n",
              "  'generated'),\n",
              " ('گمنامی تنها برای شهرت پرستان درد آور است\\nوگرنه همه اجر\\u200cها در گمنامیست\\nوعده دیدارمون یکشنبه مصلی رامسر انشالله\\n#گمنام_مثل_مادر\\n#لشکر_علویان https://t.co/xS7Tjg30Lg',\n",
              "  'generated'),\n",
              " ('ما سینه زدیم بی صدا باریدند\\nاز هرچه که دم\\u200cزدیم آنها دیدند\\nما مدعیان صف اول بودیم\\nاز آخر مجلس شهدا را چیدند...\\n#گمنام_مثل_مادر\\n#لشکر_علویان',\n",
              "  'generated'),\n",
              " ('قسمتی از وصیت نامه شهیدخوشنام:\\nبر روی سنگ قبرم نامم را ننویسید . می خواهم همچون ده ها هزار شهید دیگر گمنام باقی بمانم. اگر خواستید فقط این جمله را بنویسید : پر کاهی تقدیم به آستان کبریای الله.\\n#گمنام_مثل_مادر\\n#لشکر_علویان https://t.co/AEkEXhn0li',\n",
              "  'generated'),\n",
              " ('@DMani11334 به مادر قول داده بود بر می گردد …\\nچشم مادر که به استخوان های بی جمجمه افتاد\\nلبخند تلخی زد و گفت :\\nبچه م سرش می رفت ولی قولش نمی رفت …\\n#لشکر_علویان #گمنام_مثل_مادر',\n",
              "  'replied'),\n",
              " ('بگذارید گمنام باشم …\\nبه خدا قسم گمنام بودن بهتر است\\nاز اینکه فردا افرادی وصایایم را شعار قرار دهند\\nو عمل را فراموش کنند .\\n#گمنام_مثل_مادر\\n#لشکر_علویان https://t.co/6CYBjfY0Hf',\n",
              "  'generated'),\n",
              " ('چه زیباست ..\\n\\nخاطرات مردانی که پروای نام ندارند و در کهف گمنامی خویش\\n\\nمأوا گرفته اند\\n\\nبه یاد شهدای گمنام …\\n\\nآنان که در زمین گمنامند\\n\\nو در آسمانها مشهورند …\\n#گمنام_مثل_مادر\\n#لشکر_علویان https://t.co/i56rn55FxO',\n",
              "  'generated'),\n",
              " ('قد و قامتتان را برای امنیت و جان و اسلام در راه خدا هدیه کردید\\n تا ما در این مملکتبا خیال آسوده قد بکشیم و رشد کنیم.\\nبه احترامتان می ایستیم و نوای یا زهرا سر میدهیم.\\n#گمنام_مثل_مادر\\n#لشکر_علویان https://t.co/svwXrReh8l',\n",
              "  'generated'),\n",
              " ('سوزنده تر از داغ تو، داغی نبود\\n\\nپژمرده تر از تو گل به باغی نبود\\n\\nروشنگر دل هایی و اما افسوس\\n\\nبر گمشده قبر تو چراغی نبود\\n\\n#گمنام_مثل_مادر\\n#لشکر_علویان https://t.co/62OZ4h6eTQ',\n",
              "  'generated'),\n",
              " ('شما گمنام نیستید، این ما هستیم که در بازی های روزگار خودمونو گم کردیم و محتاج یک لحظه نگاه شما \\nشمایی که #گمنام_مثل_مادر هستید\\n\\n#لشکر_علویان https://t.co/ZV6A4pA8si',\n",
              "  'generated'),\n",
              " ('سه شاخصه اصلی شخصیت همگی شهدا\\n۱_ ثبات قدم\\n۲_ اعتماد و اتکا به خدا \\n۳_ حیا \\nویژگی\\u200cهای اصلی شکل\\u200cدهنده شخصیت لاله\\u200cهای جاودان می باشد.\\n\\n#لشکر_علویان \\n#گمنام_مثل_مادر https://t.co/P2XxeCu1rY',\n",
              "  'generated'),\n",
              " ('هرچه رفتنتان همچو مادرتان بی سر و صدا بود\\nنمیدانم در آمدنتان چه حکمتی ست که تماااام شهر برایتان سنگ تمام میگذارد.\\n#گمنام_مثل_مادر\\n#لشکر_علویان https://t.co/KoKhrarnev',\n",
              "  'generated'),\n",
              " ('قسمتی از وصیت نامه شهیدخوشنام:\\nبر روی سنگ قبرم نامم را ننویسید . می خواهم همچون ده ها هزار شهید دیگر گمنام باقی بمانم\\n#گمنام_مثل_مادر \\n#لشکر_علویان https://t.co/9i2eTzlgNO',\n",
              "  'generated'),\n",
              " ('میدانید!.\\nدرست\\u200cهمان\\u200c\\u200cزمانی\\u200c\\u200cمی\\u200cآیند\\u200cکه\\u200c\\u200cجان\\u200cها \\nودلهایمان\\u200cبوی\\u200cدنیارابه\\u200cخودگرفته(:\\n#وداع_با_لاله\\u200cها\\n#مسافران_افلاک https://t.co/2fEeFY03bH',\n",
              "  'generated'),\n",
              " ('ای کاش با سربند\\nیـــــا زهـــــــرا (س)\\nبمیریــــــــم ...\\n#گمنام_مثل_مادر #لشکر_علویان',\n",
              "  'generated'),\n",
              " ('چشمای مادرت به راه و تو هنوز نیامدی مادر فقط تو را در خواب میبیند و لاجرم به همین اکتفا می کند... \\n#گمنام_مثل_مادر\\n#لشکر_علویان',\n",
              "  'generated'),\n",
              " ('گمنام شدید تا نامی از مکتب فرزندان فاطمه بماند\\nدستمریزاد \\n#گمنام _مثل_مادر \\n#لشگر_علویان',\n",
              "  'generated'),\n",
              " ('مراسم عزاداری بانوی دوعالم \\n\\nهوای کوچه ها غم گونه است \\n#گمنام_مثل_مادر\\n#وداع_با_لاله\\u200cها https://t.co/Q0tGcHA0op',\n",
              "  'generated'),\n",
              " ('یه\\u200cچیزی\\u200cرو\\u200cمی\\u200cخوام\\u200cبِت\\u200cبگـم \\nاین\\u200cشبا\\u200cاگه\\u200cجایی\\u200cقسمتت\\u200cشده\\nو\\u200cمیـری\\u200cروضه\\u200cی\\u200cخانوم\\u200cحضرت\\u200cزهرا ؛\\nبدون\\u200cنظر\\u200cکرد\\u200cه\\u200cمولایی . .\\nجلسات\\u200cفاطمیه\\u200cخصوصیه ؛\\nمهمون\\u200cخصوصیا\\u200cرو\\nمولا\\u200cامیرالمومنین\\u200cدعوت\\u200cمیکنن . .💔!',\n",
              "  'generated'),\n",
              " ('رهبر انقلاب:سلام بر شهیدان گمنام، گمنام در میان خاکیان و معروف در عرصه\\u200cی افلاکیان. فداکارانی که پس از گذشت سالیان دراز از لحظه\\u200cی شهادتشان کشور را با رائحه\\u200cی معنویت و جهاد، معطّر میسازند \\n\\n#وداع_با_لاله\\u200cها\\n#گمنام_مثل_مادر https://t.co/m1euY5t6xS',\n",
              "  'generated'),\n",
              " ('بگذارید گمنام باشم …\\nبه خدا قسم گمنام بودن بهتر است\\nاز اینکه فردا افرادی وصایایم را شعار قرار دهند\\nو عمل را فراموش کنند \\n#گمنام_مثل_مادر\\n#لشکر_علویان',\n",
              "  'generated'),\n",
              " ('وتاابدبه آنانکه پلاکشان راازگردن خویش درآوردندتامانندمادرشان گمنام وبی مزاربمانندمدیونیم\\n#گمنام_مثل_مادر \\n#لشکر_علویان',\n",
              "  'generated'),\n",
              " ('من می خواهم در آینده شهید بشوم …\\nمعلم پرید وسط حرف علی و گفت :\\nببین علی جان موضوع انشا این بود\\nکه در آینده می خواهین چکاره بشین ،\\nباید در مورد یه شغل یا کار توضیح می دادی !!!\\nمثلا پدر خودت چه کاره است ؟ آقا اجازه … شهید …\\n#گمنام_مثل_مادر\\n#لشکر_علویان',\n",
              "  'generated'),\n",
              " ('پیشونی بندها رو با وسواس زیر و رو میکرد …\\nپرسیدم : دنبال چی میگردی ؟\\nگفت : سربند یا زهرا !\\nگفتم : یکیش رو بردار ببند دیگه ، چه فرقی داره ؟\\nگفت : نه ! آخه من مادر ندارم …\\n#گمنام_مثل_مادر\\n#لشکر_علویان',\n",
              "  'generated'),\n",
              " ('بسم رب الشهدا\\nدلم تنگ شده\\nبرا اینجا نوشتن از شهدا … فقط همین\\nدر گمنامی هم مشترکیم\\nتو پلاکت را گم کرده ای و من هویتم را …\\nای شهید گمنام ..\\n#گمنام_مثل_مادر\\n#لشکر_علویان',\n",
              "  'generated'),\n",
              " ('پلاک خانه آن یار مهربان چند است\\nمادر! بیا و نگه کن کدام فرزند است\\nوصیتی که کمی سوخته به جیبش بود\\nنوشته: عرض سلام ای مادر! دلم بند است\\n#گمنام_مثل_مادر\\n#لشکر_علویان',\n",
              "  'generated'),\n",
              " ('چشم پاک دختری از جمله\\u200cای تر مانده است\\n\\nچشم\\u200cهای پاکش اما خیره بر در مانده است\\n\\nروی دیوار اتاق کوچک تنهایی\\u200cاش\\n\\nعکس بابایش کنار شعر مادر مانده است\\n#گمنام_مثل_مادر\\n#لشکر_علویان',\n",
              "  'generated'),\n",
              " ('کاش می شد درتمام روستاهای ایران یک مرقد شهیدگمنام باشد تاهمه ی مردم لذت لحظه ای  درکنارقبرشهیدگمنام بودن رابچشند\\n#وداع_با_لاله_ها \\n#گمنام_مثل_مادر https://t.co/NHUz76gDj2',\n",
              "  'generated'),\n",
              " ('چند سال هست که همزمان با ایام فاطمیه، شهید می آورند... شهدایی بی نام و نشان، آنان که از نام خود گذشتند، آنان که گمنام در زمین و مشهور در آسمانند... \\nچه سری است میان فاطمیه و شهدای گمنام؟! \\n \\n#وداع_با_لاله\\u200cها\\n#گمنام_مثل_مادر https://t.co/SUYRtPRKp2',\n",
              "  'generated'),\n",
              " ('خبری پیچید در شهر \\nزمزمه ها بالاگرفت \\nچشمها دنبال نشان \\nعجب که بوی مادر می آید \\n#لشکر_علویان\\n#گمنام_مثل_مادر',\n",
              "  'generated'),\n",
              " ('ای تاج سر عالم و آدم زهرا / از کودکی ام دل به تو دادم زهرا\\nآن روز که من هستم و تاریکی قبر / جان حسنت برس به دادم زهرا . . .\\n#وداع_با_لاله\\u200cها\\n#گمنام_مثل_مادر',\n",
              "  'generated'),\n",
              " ('+\\u200cدختری داد میزد ، گریه میکرد ؛\\nمیگفت: میخوام صورتِ پدرمو ببوسم .\\nاما اجازه نمیدادند ،\\nیکی گفت: دخترش است مگر چه اشکالی دارد؟\\nبگذارید پدرش را ببوسد ..\\nگفتند شما اصرار نکنید نمیشود\\nاین شهید سر ندارد . . 💔(:\\xa0 \\n#وداع_با_لاله\\u200cها\\n#گمنام_مثل_مادر',\n",
              "  'generated'),\n",
              " ('پاره پاره پیکرت \\nقطعه قطعه  استخوانت \\nکو پلاک گردنت \\nمادر چطور بشناستت\\nگرچه نامت نیست بر پیکرت \\nمرحبا آمدی تو با نشان مادرت\\n#لشکر_علویان\\n#گمنام_مثل_مادر',\n",
              "  'generated'),\n",
              " ('قربان قدمت \\nکه دم مسیحیایی است بر جان مرده شهر \\nخوش اومدی شهید گمنام سلام\\n#لشکر_علویان\\n#گمنام_مثل_مادر',\n",
              "  'generated'),\n",
              " ('من امامِ فاطمه س را امام می دانم ! \\n\\n۱-منابع شیعه و سنی معتقد و معترفند هرکس بدون امام و بیعت او بمیرد به مرگ جاهلیت مرده است فلذا جهنمی است \\n۲- طبق صحیح ترین منابع اهل سنت حضرت زهرا سلام الله علیها سیده زنان بهشت است \\n۳- دوباره طبق منابع معتبر سنی حضرت زهرا س بدون بیعت با خلیفه اول از دنیا رفت در حالی که از او خشمگین و ناراضی بود!\\nسوال مهم : یا حضرت زهرا س العیاذبالله جهنمی است که نیست  یا خلیفه رسول الله ابوبکر نبوده و حضرت فاطمه س در بیعت با امام و خلیفه ای دیگر (امام علی ع) از دنیا رفته است.\\n#يا_زهراء',\n",
              "  'generated'),\n",
              " ('دنبال شُهرتیم و پِی اسم و رسم و نام \\nغافل از این که فاطمه«س» گمنام میخرد \\n#لشکر_علویان\\n#گمنام_مثل_مادر',\n",
              "  'generated'),\n",
              " ('انگار جایی شما را حس کردم وجودت قلبم را ذوب میکند \\n#مادر https://t.co/84yNC62ePy',\n",
              "  'generated'),\n",
              " ('شهیدمحمدابراهیم همت #رسانه_ولایت بود.\\nحسین وارزیستن وحسین وارشهیدشدن رادوست دارم\\n« فرازی از وصیت شهید درباره ولایت »\\n\\n#وداع_با_لاله\\u200cها https://t.co/kMKiZHMTCU',\n",
              "  'generated')]"
            ]
          },
          "execution_count": 249,
          "metadata": {},
          "output_type": "execute_result"
        }
      ],
      "source": [
        "target_user_tweets = parsed_rdd.flatMap(lambda x: target_user_tweets_parser(target_user,x))\n",
        "target_user_tweets.collect()"
      ]
    },
    {
      "cell_type": "code",
      "execution_count": null,
      "id": "4bbe6941-5e86-4102-aa48-21a37780f6bb",
      "metadata": {
        "id": "4bbe6941-5e86-4102-aa48-21a37780f6bb"
      },
      "outputs": [],
      "source": [
        "import numpy as np"
      ]
    },
    {
      "cell_type": "code",
      "execution_count": null,
      "id": "abe49f15-0f7e-43e5-8e12-b52234f85b92",
      "metadata": {
        "id": "abe49f15-0f7e-43e5-8e12-b52234f85b92"
      },
      "outputs": [],
      "source": [
        "def pearson_coeff(target_user,user_x):\n",
        "\n",
        "    target_user_tweets_ids = [tweets[1] for tweets in target_user[1]]\n",
        "    user_x_tweets_ids = [tweets[1] for tweets in user_x[1]]\n",
        "    S_xy =  list(set(target_user_tweets_ids) & set(user_x_tweets_ids))\n",
        "    r_x = np.array(list(set(tweets[2] for tweets in target_user[1]\n",
        "                    if tweets[1] in S_xy)))\n",
        "\n",
        "    r_y = np.array(list(set(tweets[2] for tweets in user_x[1]\n",
        "                    if tweets[1] in S_xy)))\n",
        "\n",
        "    if r_x.size == 0:\n",
        "        return [(0,user_x[0])]\n",
        "\n",
        "    # ignore removing the mean\n",
        "    sim_xy = (sum( (r_x)*(r_y) ) )\\\n",
        "            /((np.sqrt(sum( (r_x)**2) ))*(np.sqrt(sum( (r_y)**2) )))\n",
        "\n",
        "    return [(sim_xy,user_x[0])]"
      ]
    },
    {
      "cell_type": "code",
      "execution_count": null,
      "id": "ed8ea2ff-d8cf-4efe-993f-e20cf5434bf8",
      "metadata": {
        "id": "ed8ea2ff-d8cf-4efe-993f-e20cf5434bf8",
        "outputId": "d602493b-f25e-40c9-fbcc-ad2d00772bf5"
      },
      "outputs": [
        {
          "name": "stderr",
          "output_type": "stream",
          "text": [
            "                                                                                \r"
          ]
        },
        {
          "data": {
            "text/plain": [
              "296851"
            ]
          },
          "execution_count": 255,
          "metadata": {},
          "output_type": "execute_result"
        }
      ],
      "source": [
        "similars_rdd = grouped_rdd.flatMap(lambda x:pearson_coeff(target_user,x))\n",
        "similars_rdd.count()"
      ]
    },
    {
      "cell_type": "code",
      "execution_count": null,
      "id": "c573068b-e1f8-42c5-b267-88891cda48c6",
      "metadata": {
        "id": "c573068b-e1f8-42c5-b267-88891cda48c6",
        "outputId": "ef6aacde-69ca-4e58-be40-7e7e9d241e85"
      },
      "outputs": [
        {
          "name": "stderr",
          "output_type": "stream",
          "text": [
            "                                                                                \r"
          ]
        },
        {
          "data": {
            "text/plain": [
              "296851"
            ]
          },
          "execution_count": 256,
          "metadata": {},
          "output_type": "execute_result"
        }
      ],
      "source": [
        "sorted_similars_rdd = similars_rdd.sortByKey()\n",
        "sorted_similars_rdd.count()"
      ]
    },
    {
      "cell_type": "code",
      "execution_count": null,
      "id": "d9114a39-e17d-4866-9955-7da290bbd1e6",
      "metadata": {
        "id": "d9114a39-e17d-4866-9955-7da290bbd1e6",
        "outputId": "5151eaab-1e4c-4086-99e1-1fb34f825826"
      },
      "outputs": [
        {
          "name": "stderr",
          "output_type": "stream",
          "text": [
            "                                                                                \r"
          ]
        },
        {
          "data": {
            "text/plain": [
              "[(1.6035674514745464, '1724483603600486400'),\n",
              " (1.6035674514745464, '1632351425383522312'),\n",
              " (1.6035674514745464, '1487097029990002688'),\n",
              " (1.3416407864998738, '774470366676877312'),\n",
              " (1.3416407864998738, '1725652340043100160'),\n",
              " (1.3416407864998738, '1725280261300965378'),\n",
              " (1.3416407864998738, '1721135891308007424'),\n",
              " (1.3416407864998738, '1719916251404021760'),\n",
              " (1.3416407864998738, '1719773177503682560'),\n",
              " (1.3416407864998738, '1719696919692292096'),\n",
              " (1.3416407864998738, '1718837061237530624'),\n",
              " (1.3416407864998738, '1710302619371982848'),\n",
              " (1.3416407864998738, '1708866964020514816'),\n",
              " (1.3416407864998738, '1704606183858880513'),\n",
              " (1.3416407864998738, '1704531218174251012'),\n",
              " (1.3416407864998738, '1692155672807325699'),\n",
              " (1.3416407864998738, '1689309272180482048'),\n",
              " (1.3416407864998738, '1685928050708418560'),\n",
              " (1.3416407864998738, '1675154446966312962'),\n",
              " (1.3416407864998738, '1648401324608827392')]"
            ]
          },
          "execution_count": 257,
          "metadata": {},
          "output_type": "execute_result"
        }
      ],
      "source": [
        "similar_users = sorted_similars_rdd.top(20)\n",
        "similar_users"
      ]
    },
    {
      "cell_type": "code",
      "execution_count": null,
      "id": "3922bd5a-efa8-42e6-ade7-4990e69d299a",
      "metadata": {
        "id": "3922bd5a-efa8-42e6-ade7-4990e69d299a"
      },
      "outputs": [],
      "source": [
        "def similar_tweets_score(similar_users,user_tweets):\n",
        "    similar_users_ids = [x[1] for x in similar_users]\n",
        "    similar_users_similarity = [x[0] for x in similar_users]\n",
        "\n",
        "    if user_tweets[0] in similar_users_ids:\n",
        "        tweets_ids = [x[1] for x in user_tweets[1]]\n",
        "        similarity = similar_users_similarity[similar_users_ids.index(user_tweets[0])]\n",
        "        tweets_scores = list(np.array([x[2] for x in user_tweets[1]])*similarity)\n",
        "        score_id = list(zip(tweets_scores,tweets_ids))\n",
        "\n",
        "        return score_id\n",
        "    else:\n",
        "        return []"
      ]
    },
    {
      "cell_type": "code",
      "execution_count": null,
      "id": "d3540ee7-4885-44f2-8ec4-b2a0c3f89849",
      "metadata": {
        "id": "d3540ee7-4885-44f2-8ec4-b2a0c3f89849",
        "outputId": "e17ae722-afee-45dd-e480-665b17478774"
      },
      "outputs": [
        {
          "name": "stderr",
          "output_type": "stream",
          "text": [
            "                                                                                \r"
          ]
        }
      ],
      "source": [
        "recomm_tweets_ids = grouped_rdd.flatMap(lambda x: similar_tweets_score(similar_users,x)).collect()"
      ]
    },
    {
      "cell_type": "code",
      "execution_count": null,
      "id": "75148983-05ed-40a2-85f8-1fc9dfe03bb5",
      "metadata": {
        "id": "75148983-05ed-40a2-85f8-1fc9dfe03bb5"
      },
      "outputs": [],
      "source": [
        "recomm_tweets_ids.sort(key=lambda a: a[0],reverse = True)"
      ]
    },
    {
      "cell_type": "code",
      "execution_count": null,
      "id": "0668266b-bfff-4afd-971a-dfc7660e80ae",
      "metadata": {
        "id": "0668266b-bfff-4afd-971a-dfc7660e80ae",
        "outputId": "0b851f80-dd3b-46a4-9b06-e4b73e1fe63b"
      },
      "outputs": [
        {
          "data": {
            "text/plain": [
              "[(4.810702354423639, '1734904359844982845'),\n",
              " (4.810702354423639, '1734599807044349982'),\n",
              " (4.810702354423639, '1734204787200004101'),\n",
              " (4.024922359499621, '1735389039786668038'),\n",
              " (4.024922359499621, '1734604136702935127'),\n",
              " (4.024922359499621, '1735901407872475393'),\n",
              " (4.024922359499621, '1735901649871253757'),\n",
              " (4.024922359499621, '1736285402858688631'),\n",
              " (4.024922359499621, '1736285577358573735'),\n",
              " (4.024922359499621, '1736348680079233107'),\n",
              " (4.024922359499621, '1736349049442210119'),\n",
              " (4.024922359499621, '1736349214286688597'),\n",
              " (4.024922359499621, '1736349372965655032'),\n",
              " (4.024922359499621, '1734182827418095904'),\n",
              " (4.024922359499621, '1736000149338325236'),\n",
              " (4.024922359499621, '1734227232418075035'),\n",
              " (4.024922359499621, '1734234103837327546'),\n",
              " (4.024922359499621, '1735690223877501163'),\n",
              " (4.024922359499621, '1734273745986994506'),\n",
              " (4.024922359499621, '1735714482779750596')]"
            ]
          },
          "execution_count": 261,
          "metadata": {},
          "output_type": "execute_result"
        }
      ],
      "source": [
        "recommend_tweets_ids = recomm_tweets_ids[0:20]\n",
        "recommend_tweets_ids"
      ]
    },
    {
      "cell_type": "code",
      "execution_count": null,
      "id": "c202c964-fa33-4c1d-b782-e82ab82cddc6",
      "metadata": {
        "id": "c202c964-fa33-4c1d-b782-e82ab82cddc6"
      },
      "outputs": [],
      "source": [
        "def recommended_tweets_parser(recommend_tweets_ids,tweet):\n",
        "    ids = [a[1] for a in recommend_tweets_ids]\n",
        "    if tweet.get('id') in ids:\n",
        "        return [(tweet.get('text'),)]\n",
        "    else:\n",
        "        return []"
      ]
    },
    {
      "cell_type": "code",
      "execution_count": null,
      "id": "96284f8b-6822-4504-94e2-5fa2742fc715",
      "metadata": {
        "id": "96284f8b-6822-4504-94e2-5fa2742fc715",
        "outputId": "519c6bce-3273-4067-db09-2118569aff16"
      },
      "outputs": [
        {
          "name": "stderr",
          "output_type": "stream",
          "text": [
            "                                                                                \r"
          ]
        },
        {
          "data": {
            "text/plain": [
              "[('خنده\\u200cهاشان خاکی بود\\nگریه\\u200c هاشان آسمانی ؛  \\nبی\\u200c ریا و خاکی که باشی\\nآسمانی\\u200cها خاطرخواهت می\\u200cشوند \\n#وداع_با_لاله\\u200cها \\n#روایت_عشق',),\n",
              " ('چه سروهایی که قطعه قطعه شدند\\nعلی اکبر هایی که رفتند \\nو علی اصغر برگشتند...\\n\\n#وداع_با_لاله\\u200cها \\n#روایت_عشق https://t.co/Wtpvs9DrN2',),\n",
              " ('یک چفیه پر از بهار، باور کردم\\n\\nموسیقی انتظار، باور کردم\\n\\nمن عاشقی تو را به روی مین\\u200cها\\n\\nدر لحظه\\u200cی انفجار باور کردم\\n#وداع_با_لاله\\u200cها\\n#روایت_عشق https://t.co/KhlAqtjsut',),\n",
              " ('ای دوست به شهر ما صفا آوردی\\n\\nاین رایحه را تو از کجا آوردی؟\\n\\nانگار نماز عشق را سر سرخ\\n\\nبر تربت لاله\\u200cها به جا آوردی\\n\\n#وداع_با_لاله\\u200cها\\n#روایت_عشق https://t.co/29dC9xkqxC',),\n",
              " ('🌹قرار آسمانی با ستاره آسمان خوشنامی در #هادیشهر\\n#گمنام_مثل_مادر \\n#لشکر_علویان https://t.co/885JANG6B5',),\n",
              " ('🇮🇷گل اشکم شبی وا می شد ای کاش\\nهمه دردم مداوا می شد ای کاش\\nبه هرکس قسمتی دادی خدایا\\nشهادت قسمت ما می شد ای کاش\\n#گمنام_مثل_مادر\\n#لشکر_علویان',),\n",
              " ('🏴سلام بر شهیدان گمنام \\n\\nگمنام در میان خاکیان و معروف در عرصه\\u200cی افلاکیان...🍃\\n#گمنام_مثل_مادر\\n#لشکر_علویان https://t.co/MfSKOfupFq',),\n",
              " ('گمنامی تنها برای شهرت پرستان درد آور است\\nوگرنه همه اجر\\u200cها در گمنامیست\\nمحکمه خون شهداء محکمه عدلی ست\\nکه ما را در آن به محاکمه می\\u200cکشند\\nپلاک خانه آن یار مهربان چند است\\nپدر! بیا و نگه کن کدام فرزند است\\nوصیتی که کمی سوخته به جیبش بود\\n\\n#وداع_با_لاله\\u200cها\\n#روایت_عشق',),\n",
              " ('ای از ازل به عرش خدا تاج “فاطمه”\\nسیب بهشتی شب معراج “فاطمه”\\n\\nفردا که اختیارشفاعت به دست توست\\nهستند انبیا به تو محتاج “فاطمه\\n\\n#وداع_با_لاله\\u200c\\u200cها\\n#روایت_عشق',),\n",
              " ('نور و کوثر نمی فهمیم ما\\nقدر را آخر نمی فهمیم ما\\n\\nقدر زهرا را فقط حیدر شناخت\\nیاس پرپر را نمی فهمیم ما\\n\\n⚑⚑⚑\\n\\n#وداع_با_لاله\\u200cها\\n\\n#روایت_عشق',),\n",
              " ('این صفای سینه هامان از صفای فاطمه است\\nهر چه داریم و نداریم از عطای فاطمه است\\n\\nچادر خاکی او بر قلب ما هم نور داد\\nباز هم در جان ما حال و هوای فاطمه است\\n\\n#وداع_با_لاله\\u200cها\\n\\n#روایت_عشق',),\n",
              " ('خواهان ابطال رای ناعادلانه برای حمید نوری هستیم.\\n#FreeHamidNouri https://t.co/clD86cblue',),\n",
              " ('چه زیباست ..\\nخاطرات مردانی که پروای نام ندارند و در کهف گمنامی خویش\\nمأوا گرفته اند\\nبه یاد شهدای گمنام …\\nآنان که در زمین گمنامن\\nو در آسمانها مشهورند …\\n#وداع_با_لاله\\u200cها\\n#روایت_عشق',),\n",
              " ('🔷سیستم حقوقی سوئد فاقد صلاحیت رسیدگی به پرونده شهروند ایرانی است\\n#FreeHamidNouri https://t.co/PsNa6H80Pl',),\n",
              " ('از آزادی بیان غرب همین بس که دادگاه سوئد اعلام کرده  اگر حمید نوری شاهد به دادگاه بیاره بازداشت می شود و اجازه داده نمی شود\\xa0 تا اقای نوری از خودش دفاع کند،\\n#FreeHamidNouri',),\n",
              " ('اعضای گروهک تروریستی منافقین که دستشون به خون هزاران بیگناه آغشته هست،شاکی پرونده حمید نوری هستن....\\nخیلی خنده داره.\\n\\n#FreeHamidNouri',),\n",
              " ('پایِ رهبر \\nسَر و جان را \\nبه خدا هدیه کنند \\nالگوی راهِ تمام شهدا \\n\" فاطمه \" است ...\\n#وداع_با_لاله\\u200cها\\n#روایت_عشق',),\n",
              " ('هر موقع حمید نوری رو آزاد کردید ماهم ی فکری به حال این جاسوس مفلوک میکنیم\\n\\n#FreeHamidNouri https://t.co/tjJpqOrGqV',),\n",
              " ('\"وقتی گِره\\u200cهای بزرگ به کارتون اُفتاد\\nاز خانوم «فاطمه\\u200c زهرا» کمک بخواید\\nگره\\u200cهای کوچیک رو هم از «شهدا»\\nبخواید براتون باز کنند...\"\\nشهید حاج حسین همدانی\\n#وداع_با_لاله\\u200cها\\n#روایت_عشق https://t.co/BaUPdHgG6t',),\n",
              " ('داداشم یحیی سریع خشن تا دقایقی دیگر بیانه جدید میده🚀🇮🇷🔥🇾🇪',)]"
            ]
          },
          "execution_count": 263,
          "metadata": {},
          "output_type": "execute_result"
        }
      ],
      "source": [
        "recommended_tweets = parsed_rdd.flatMap(lambda x: recommended_tweets_parser(recommend_tweets_ids,x))\n",
        "recommended_tweets.collect()"
      ]
    },
    {
      "cell_type": "markdown",
      "id": "8328ce1b-50cb-46e2-945d-84c9f47c2a35",
      "metadata": {
        "id": "8328ce1b-50cb-46e2-945d-84c9f47c2a35"
      },
      "source": [
        "***\n",
        "# $\\text{Type #2 User}$"
      ]
    },
    {
      "cell_type": "code",
      "execution_count": null,
      "id": "4a09fdab-59be-4921-95b4-590670db8b32",
      "metadata": {
        "id": "4a09fdab-59be-4921-95b4-590670db8b32",
        "outputId": "40f76443-b895-4eae-b318-48f335e58136"
      },
      "outputs": [
        {
          "name": "stderr",
          "output_type": "stream",
          "text": [
            "                                                                                \r"
          ]
        },
        {
          "data": {
            "text/plain": [
              "('1036885525326647296',\n",
              " [('1591547142136627202', '1736619970027462949', 1),\n",
              "  ('1227221292685938688', '1734241138918175049', 1),\n",
              "  ('1227221292685938688', '1733918649746919740', 1),\n",
              "  ('1591547142136627202', '1734596007038517749', 1),\n",
              "  ('1591547142136627202', '1735659470351433916', 1),\n",
              "  ('1591547142136627202', '1735310756118155394', 1),\n",
              "  ('1591547142136627202', '1736442052454310094', 1),\n",
              "  ('1591547142136627202', '1736076770128851061', 1),\n",
              "  ('1591547142136627202', '1736096711972475174', 1)])"
            ]
          },
          "execution_count": 18,
          "metadata": {},
          "output_type": "execute_result"
        }
      ],
      "source": [
        "target_user = grouped_rdd.takeSample(False,1,1000)[0]\n",
        "target_user"
      ]
    },
    {
      "cell_type": "code",
      "execution_count": null,
      "id": "f228c552-c595-460a-a859-4b09f21e77db",
      "metadata": {
        "id": "f228c552-c595-460a-a859-4b09f21e77db",
        "outputId": "b8357243-83d7-4365-81e0-29a31e8832de"
      },
      "outputs": [
        {
          "name": "stderr",
          "output_type": "stream",
          "text": [
            "                                                                                \r"
          ]
        },
        {
          "data": {
            "text/plain": [
              "[('در مملکتی که شورای نگهبان مصلحت اندیشی کند و مجمع تشخیصِ مصلحت کار فقهی!هیچ چیز درست نخواهد شد .\\n#روحانی',\n",
              "  'generated'),\n",
              " ('#اینبار_فرق_میکند\\nلطفا بفرمایید از بنده انتظار دارید در انتخابات پیش رو چه کنشگری داشته باشم \\nصد البته نظر شما برای حقیر مهم و تعیین کننده خواهد بود\\nفی المثل آیا با گروهای دیگر اجماع کنیم یا خیر ؟\\nاگر بله چه اشخاص ، گروه ها و جریاناتی؟\\nخطوط قرمز شما چیست ؟\\nچه مسایلی برایتان اولویت دارد ؟\\nو ….',\n",
              "  'generated'),\n",
              " ('یک بار  برای همیشه باید تکلیفمان را با بی تفاوتی و در مواردی شیطنت دولت پاکستان در برقراری امنیت مرزها مشخص کنیم\\nباید تکلیفمان را با #سربازی_اجباری مشخص کنیم\\nباید با کمبود تجهیزات و نبود آموزش نیروهای مرزبانی مشخص کنیم \\nباید با عقبه ایدئولوژیک تروریست ها در مرزهای داخلی ! مشخص کنیم.\\nباید تکلیفمان را با مسئولین بی عرضه ای که در تهران نشسته و برای مرزها نسخه غلط می پیچند مشخص کنیم \\n#راسک\\n#ایران_تسلیت',\n",
              "  'generated'),\n",
              " ('@M_Afsari2 @RezaGholami1354 در باب گفتگو هم قرار بود دیروز ایشان تشریف بیاورند دفتر ما که ظاهرا کاری برایشان پیش آمد و از جانب ایشان موکول شد به بعد از ایام شهادت',\n",
              "  'replied'),\n",
              " ('چندنکته مهم:\\n۱.پدرم هیچ\\u200cگاه دیپلمات نبوده و ازسال ۷۱ که از دادستانی استعفا میدهند، کارغیردولتی داشته\\u200cاند\\n۲.بحث تبادل، بحثی انحرافی است،حق پدرم تبرئه است!\\n۳.رای بدوی، ۲۳تیر۱۴۰۱ صادر شده وسه\\u200cشنبه هفته آتی حکم تجدیدنظر صادر میشود\\nحکم حبس ابد هنوز نهایی نشده است!!\\n#FreeHamidNouri https://t.co/DBxSHJlQVl',\n",
              "  'generated'),\n",
              " ('من امامِ فاطمه س را امام می دانم ! \\n\\n۱-منابع شیعه و سنی معتقد و معترفند هرکس بدون امام و بیعت او بمیرد به مرگ جاهلیت مرده است فلذا جهنمی است \\n۲- طبق صحیح ترین منابع اهل سنت حضرت زهرا سلام الله علیها سیده زنان بهشت است \\n۳- دوباره طبق منابع معتبر سنی حضرت زهرا س بدون بیعت با خلیفه اول از دنیا رفت در حالی که از او خشمگین و ناراضی بود!\\nسوال مهم : یا حضرت زهرا س العیاذبالله جهنمی است که نیست  یا خلیفه رسول الله ابوبکر نبوده و حضرت فاطمه س در بیعت با امام و خلیفه ای دیگر (امام علی ع) از دنیا رفته است.\\n#يا_زهراء',\n",
              "  'generated'),\n",
              " ('هیچ چیز مانند مظلومیت، رسواکننده ظلم و ظالم نیست.\\nمنتها یک شرط دارد:\\nآن مظلوم باید مقتدر باشد نه ذلیل …\\nفاطمه سلام الله علیها بنیانگذار این مکتب است \\nبرادران و\\u200cخواهرانمان در غزه خواه بدانند یا ندانند پیرو این مکتب هستند.\\n\\n#مقتدر_مظلوم \\n#غزه_تقاوم',\n",
              "  'generated'),\n",
              " ('اولا : تقویم جمهوری اسلامی که مبنای تشخیص امر تاریخی نیست \\nدوما: در متون روایی و تاریخی به این مهم اشاره شده است مانند اصول کافی و من لایحضره الفقیه به سند صحیح :\\nقَالَ: إِنَّ فَاطِمَةَ ع صِدِّیقَةٌ شَهِیدَةٌ وَ إِنَّ بَنَاتِ الْأَنْبِیَاءِ لَا یَطْمَثْن.[1]امام کاظم علیه السلام می فرمایند : فاطمه (علیهاالسلام) صدیقه ای است که شهید شده  است.\\nسوما : وفات در زبان عربی شمال مرگ و شهادت است و متعدد در اسناد تاریخی و روایی درباره افراد مختلف که شهادتشان قطعی است استفاده شده \\nرابعا: ملاحظه افرادی که تحلیل شان مانند شماست باعث شد از دهه هفتاد به بعد از لفظ شهادت استفاده شود.',\n",
              "  'replied')]"
            ]
          },
          "execution_count": 19,
          "metadata": {},
          "output_type": "execute_result"
        }
      ],
      "source": [
        "target_user_tweets = parsed_rdd.flatMap(lambda x: target_user_tweets_parser(target_user,x))\n",
        "target_user_tweets.collect()"
      ]
    },
    {
      "cell_type": "code",
      "execution_count": null,
      "id": "e04311d8-69ef-4d75-b14f-7b962625fc9b",
      "metadata": {
        "id": "e04311d8-69ef-4d75-b14f-7b962625fc9b",
        "outputId": "713a1711-fab6-4277-f667-38cc4fd7081e"
      },
      "outputs": [
        {
          "name": "stderr",
          "output_type": "stream",
          "text": [
            "                                                                                \r"
          ]
        },
        {
          "data": {
            "text/plain": [
              "296851"
            ]
          },
          "execution_count": 22,
          "metadata": {},
          "output_type": "execute_result"
        }
      ],
      "source": [
        "similars_rdd = grouped_rdd.flatMap(lambda x:pearson_coeff(target_user,x))\n",
        "similars_rdd.count()"
      ]
    },
    {
      "cell_type": "code",
      "execution_count": null,
      "id": "bd0d1d52-888a-4b32-92a7-a8d40e7e0ab6",
      "metadata": {
        "id": "bd0d1d52-888a-4b32-92a7-a8d40e7e0ab6",
        "outputId": "625076fd-607d-4a82-9ef6-99b4df747315"
      },
      "outputs": [
        {
          "name": "stderr",
          "output_type": "stream",
          "text": [
            "                                                                                \r"
          ]
        },
        {
          "data": {
            "text/plain": [
              "296851"
            ]
          },
          "execution_count": 23,
          "metadata": {},
          "output_type": "execute_result"
        }
      ],
      "source": [
        "sorted_similars_rdd = similars_rdd.sortByKey()\n",
        "sorted_similars_rdd.count()"
      ]
    },
    {
      "cell_type": "code",
      "execution_count": null,
      "id": "ca3adba4-df85-4141-be3f-082129c8232a",
      "metadata": {
        "id": "ca3adba4-df85-4141-be3f-082129c8232a",
        "outputId": "eb71bf6f-43b7-4f40-b31d-b7f133b0053a"
      },
      "outputs": [
        {
          "name": "stderr",
          "output_type": "stream",
          "text": [
            "                                                                                \r"
          ]
        },
        {
          "data": {
            "text/plain": [
              "[(1.3416407864998738, '988684923203710976'),\n",
              " (1.3416407864998738, '952463173868818432'),\n",
              " (1.3416407864998738, '951201559597191169'),\n",
              " (1.3416407864998738, '948126072603754496'),\n",
              " (1.3416407864998738, '941220112845164544'),\n",
              " (1.3416407864998738, '919323412195102721'),\n",
              " (1.3416407864998738, '918806712995348480'),\n",
              " (1.3416407864998738, '911453224049164288'),\n",
              " (1.3416407864998738, '901777753833332736'),\n",
              " (1.3416407864998738, '880353064477233152'),\n",
              " (1.3416407864998738, '878382611730751488'),\n",
              " (1.3416407864998738, '878217414323961856'),\n",
              " (1.3416407864998738, '874242781790818305'),\n",
              " (1.3416407864998738, '855438360730578946'),\n",
              " (1.3416407864998738, '834665971075907585'),\n",
              " (1.3416407864998738, '822564412997402624'),\n",
              " (1.3416407864998738, '819266108351856640'),\n",
              " (1.3416407864998738, '818514349782405120'),\n",
              " (1.3416407864998738, '818336090998374400'),\n",
              " (1.3416407864998738, '814591408862416897')]"
            ]
          },
          "execution_count": 24,
          "metadata": {},
          "output_type": "execute_result"
        }
      ],
      "source": [
        "similar_users = sorted_similars_rdd.top(20)\n",
        "similar_users"
      ]
    },
    {
      "cell_type": "code",
      "execution_count": null,
      "id": "8d1c7811-4182-461b-a3f9-688b86bf70a1",
      "metadata": {
        "id": "8d1c7811-4182-461b-a3f9-688b86bf70a1",
        "outputId": "ead33621-788f-4f70-cb03-8dc3b83851cb"
      },
      "outputs": [
        {
          "name": "stderr",
          "output_type": "stream",
          "text": [
            "                                                                                \r"
          ]
        }
      ],
      "source": [
        "recomm_tweets_ids = grouped_rdd.flatMap(lambda x: similar_tweets_score(similar_users,x)).collect()"
      ]
    },
    {
      "cell_type": "code",
      "execution_count": null,
      "id": "10029f03-2804-4f97-bbe6-bc290009a85a",
      "metadata": {
        "id": "10029f03-2804-4f97-bbe6-bc290009a85a"
      },
      "outputs": [],
      "source": [
        "recomm_tweets_ids.sort(key=lambda a: a[0],reverse = True)"
      ]
    },
    {
      "cell_type": "code",
      "execution_count": null,
      "id": "caf0acb1-beb9-4a1f-b2cf-2003f9768627",
      "metadata": {
        "id": "caf0acb1-beb9-4a1f-b2cf-2003f9768627",
        "outputId": "041e6a86-3d0d-4fa6-ccd5-bb177fd1ec78"
      },
      "outputs": [
        {
          "data": {
            "text/plain": [
              "[(4.024922359499621, '1736200632980103386'),\n",
              " (4.024922359499621, '1736200676332417325'),\n",
              " (4.024922359499621, '1736571240553283866'),\n",
              " (4.024922359499621, '1736571274892296333'),\n",
              " (4.024922359499621, '1735849256391475619'),\n",
              " (4.024922359499621, '1735849284082303219'),\n",
              " (4.024922359499621, '1735867134490607746'),\n",
              " (4.024922359499621, '1736640572977250357'),\n",
              " (4.024922359499621, '1736663226119512083'),\n",
              " (4.024922359499621, '1735958921079112138'),\n",
              " (4.024922359499621, '1736695367943561440'),\n",
              " (4.024922359499621, '1736703321509892379'),\n",
              " (4.024922359499621, '1736722218724274318'),\n",
              " (4.024922359499621, '1735994535237325134'),\n",
              " (4.024922359499621, '1736358408054296791'),\n",
              " (4.024922359499621, '1735647971692204432'),\n",
              " (4.024922359499621, '1735648652553560540'),\n",
              " (4.024922359499621, '1736760514624016488'),\n",
              " (4.024922359499621, '1735654953446736373'),\n",
              " (4.024922359499621, '1735672954925515228')]"
            ]
          },
          "execution_count": 28,
          "metadata": {},
          "output_type": "execute_result"
        }
      ],
      "source": [
        "recommend_tweets_ids = recomm_tweets_ids[0:20]\n",
        "recommend_tweets_ids"
      ]
    },
    {
      "cell_type": "code",
      "execution_count": null,
      "id": "a465eb03-e407-41fd-8db4-6674023bc5b4",
      "metadata": {
        "id": "a465eb03-e407-41fd-8db4-6674023bc5b4",
        "outputId": "db6f46a8-0e9c-473d-d652-37ebd1426c50"
      },
      "outputs": [
        {
          "name": "stderr",
          "output_type": "stream",
          "text": [
            "                                                                                \r"
          ]
        },
        {
          "data": {
            "text/plain": [
              "[('اَمَّن یُّجیبُ المُضطَرَّ اِذا دَعاهُ وَ یَکشِفُ السُّوءَ \\n\\nاَللّهُمَّ صَلِّ عَلی فاطِمَة وَ اَبیها وَ بَعْلِها وَ بَنیها وَ سِرِّ الْمُسْتَوْدَعِ فیها بِعَدَدِ ما اَحَاطَ بِهِ عِلْمُکَ\\n\\nاللهم اشف کل المریض..\\n\\n#اللّهمَّ_صَل_عَلےمُحَمَّدﷺوآلِ_مُحَمَّدﷺ_وَعَجِل_فرَجَهُم',),\n",
              " ('الحمدلله الذی جعلنا من المتمسکین بولایة امیرالمومنین علی بن ابیطالب و الائمة المعصومین علیهم السلام',),\n",
              " ('اَمَّن یُّجیبُ المُضطَرَّ اِذا دَعاهُ وَ یَکشِفُ السُّوءَ \\n\\nاَللّهُمَّ صَلِّ عَلی فاطِمَة وَ اَبیها وَ بَعْلِها وَ بَنیها وَ سِرِّ الْمُسْتَوْدَعِ فیها بِعَدَدِ ما اَحَاطَ بِهِ عِلْمُکَ\\n\\nاللهم اشف کل المریض..\\n\\n#اللّهمَّ_صَل_عَلےمُحَمَّدﷺوآلِ_مُحَمَّدﷺ_وَعَجِل_فرَجَهُم',),\n",
              " ('الحمدلله الذی جعلنا من المتمسکین بولایة امیرالمومنین علی بن ابیطالب و الائمة المعصومین علیهم السلام',),\n",
              " ('اَمَّن یُّجیبُ المُضطَرَّ اِذا دَعاهُ وَ یَکشِفُ السُّوءَ \\n\\nاَللّهُمَّ صَلِّ عَلی فاطِمَة وَ اَبیها وَ بَعْلِها وَ بَنیها وَ سِرِّ الْمُسْتَوْدَعِ فیها بِعَدَدِ ما اَحَاطَ بِهِ عِلْمُکَ\\n\\nاللهم اشف کل المریض..\\n\\n#اللّهمَّ_صَل_عَلےمُحَمَّدﷺوآلِ_مُحَمَّدﷺ_وَعَجِل_فرَجَهُم',),\n",
              " ('الحمدلله الذی جعلنا من المتمسکین بولایة امیرالمومنین علی بن ابیطالب و الائمة المعصومین علیهم السلام',),\n",
              " ('کارکنان اپ سروش هنوز نرفتن سرکار بفهمن اپ شون خرابه کار نمیکنه؟؟',),\n",
              " ('چند وقت پیش تو عروسی دوستم بعد چند سال رفقای دوران دانشجویی رو دیدم هر کدوم یکی دوتا بچه نوجوون داشتن و من هنوز مجرد بودم همونایی که موقع ازدواج با پز دادن شوهرشونو میکردن تو\\u200cچشم ما به منی که مجرد بودم میگفتن خوش به حالت مجردی و...\\n\\nواقعا باور دارم مجرد بودن من از لطف خداس',),\n",
              " ('از ۴۵ دیقه نیم ساعت قبل اذان دیگه هیچ اداره ی خراب شده ای جواب تلفن نمیده توف توی اون نمازی که شما لجن ها میخونید و کار مردم رو انجام نمیدید بعد نمازم برن ناهار و چای ساعت یک و نیم هم تعطیل میکنن میرن خونه',),\n",
              " ('خیلی خوش به حالتونه که بدون پول فالور منید\\n\\nهرکی بود الان کلی ازتون پول میگرفت بعد میزاشت فالو ش کنید https://t.co/XrD6qzuMJ9',),\n",
              " ('یه آدمایی تو دایرکت میگن خانم موسوی اجازه بدید یه جلسه با هم حضوری گفتگو کنیم آشنا بشیم که ادم نمیدونه چی بگه اخه چی چیه تو به من میخوره که میخوای منو ببینی چه حرف مشترکی با من داری اخه\\nتوییتر هم شده بچه بازی',),\n",
              " ('📢 اطلاعیه مراسم عزاداری شهادت حضرت زهرا (سلام\\u200cالله\\u200cعلیها) \\n\\n👤 سخنران: \\nاستاد #رائفی_پور\\n\\n👥 مداحان:\\nحاج محمدرضا طاهری\\nکربلایی حسین طاهری\\n\\n🗓 زمان: دوشنبه ۲۷ آذر، ساعت ۱۹\\n\\n◽ مکان: نازی\\u200cآباد، خیابان بهمنیار، کوچه ۲۴، مهدیه امام جواد (علیه\\u200cالسلام) https://t.co/AoiofXXhbI',),\n",
              " ('دو دیقه عکس پروفایل عوض میکنم بی خبر بی صدا،خودم معذب میشم دوباره یه عکس میزارم چهره م معلوم نباشه\\n\\nنمیدونم چطوری یسری خانما یه عکس گند با ده قلم ارایش همراه با حجاب زیبای چفیه و چادر!!!!! میزارید کف تایم لاین بعد خودتونم جزئیات چهره رو شرح میدید \\n\\nمن که این کاربرا رو بلاک میکنم',),\n",
              " ('چهل روز عزای عمومی تو\\u200cکویت برای مرگ امیر کویت\\n\\nچه خبره\\nسنی ها مگه به چهلم اعتقاد دارن اصلا!!!!',),\n",
              " ('شما مذهبی ها، شرق تهران تو اون کوچه پس کوچه ها و خیابونای تنگ و مساجد کوچیک برنامه اجرا نکنید خدا ازتون قبول نمیکنه؟؟؟؟\\n\\nنکنه میترسید جاهای دیگه کسی نیاد برنامه تون بخوره تو ذوقتون؟؟\\n\\nوالا بقیه مردم تهرانم به اهل بیت علاقه دارن مجلس خوب باشه میرن \\n\\nچیه اخه کلا همه چی شرق تهران',),\n",
              " ('عه دیروز ۶ سال شد \\n\\nخدا عاقبتمونو ختم به خیر کنه \\nبرای تک تک لایک ها و ریت ها و منشن ها باید جواب پس بدیم \\n\\n #MyXAnniversary https://t.co/kgIcP3LCKf',),\n",
              " ('اَمَّن یُّجیبُ المُضطَرَّ اِذا دَعاهُ وَ یَکشِفُ السُّوءَ \\n\\nاَللّهُمَّ صَلِّ عَلی فاطِمَة وَ اَبیها وَ بَعْلِها وَ بَنیها وَ سِرِّ الْمُسْتَوْدَعِ فیها بِعَدَدِ ما اَحَاطَ بِهِ عِلْمُکَ\\n\\nاللهم اشف کل المریض..\\n\\n#اللّهمَّ_صَل_عَلےمُحَمَّدﷺوآلِ_مُحَمَّدﷺ_وَعَجِل_فرَجَهُم',),\n",
              " ('عه جشنواره فیلم حقیقت شروع شده چرا انقد کم تبلیغ میکنن خبرش رو ندیدم جایی',),\n",
              " ('یا فاطمه من عقده ی دل وا نکردم\\nگشتم ولی قبر تو را پیدا نکردم\\n\\nچشم انتظارم مهدی بیاید\\nتا تربتت را پیدا نماید https://t.co/3UmSt4pBQr',),\n",
              " ('مادر چرا رنگ از رخ ماهت پریده؟\\nمادر چرا خون از گریبانت چکیده؟\\n\\nمادر چرا از دختر خود رو گرفتی؟\\nما در چرا یک دست بر پهلو گرفتی؟\\n\\nبا شوهرت از سیلی دشمن نگفتی\\nمن دخترت بودم چرا با من نگفتی؟\\n\\nدیشب دعا کردی عجل جانت بگیرد\\nامشب دعا کن دخترت زینب بمیرد',)]"
            ]
          },
          "execution_count": 30,
          "metadata": {},
          "output_type": "execute_result"
        }
      ],
      "source": [
        "recommended_tweets = parsed_rdd.flatMap(lambda x: recommended_tweets_parser(recommend_tweets_ids,x))\n",
        "recommended_tweets.collect()"
      ]
    },
    {
      "cell_type": "markdown",
      "id": "a503dc16-352c-4f2c-9b10-dafdce334e74",
      "metadata": {
        "id": "a503dc16-352c-4f2c-9b10-dafdce334e74"
      },
      "source": [
        "***\n",
        "# $\\text{Type #3 User}$"
      ]
    },
    {
      "cell_type": "code",
      "execution_count": null,
      "id": "72b12db6-099c-43b3-9147-fa85ff24165d",
      "metadata": {
        "id": "72b12db6-099c-43b3-9147-fa85ff24165d",
        "outputId": "468318a1-a113-4e66-fcfa-68f40cdfee3e"
      },
      "outputs": [
        {
          "name": "stderr",
          "output_type": "stream",
          "text": [
            "                                                                                \r"
          ]
        },
        {
          "data": {
            "text/plain": [
              "('1574096104450412544',\n",
              " [('1232300332497002496', '1735364117530112342', 1),\n",
              "  ('1249146360584114177', '1735407610952593460', 1),\n",
              "  ('1577715113679020032', '1735408119700717955', 1),\n",
              "  ('1454479575015165958', '1735368209698541690', 1),\n",
              "  ('226928166', '1734521930948972600', 1),\n",
              "  ('1049384664', '1734603377471062075', 1)])"
            ]
          },
          "execution_count": 52,
          "metadata": {},
          "output_type": "execute_result"
        }
      ],
      "source": [
        "target_user = grouped_rdd.takeSample(False,1,2001)[0]\n",
        "target_user"
      ]
    },
    {
      "cell_type": "code",
      "execution_count": null,
      "id": "bfc42933-5463-4e77-bfa2-545c3d3b9ac7",
      "metadata": {
        "id": "bfc42933-5463-4e77-bfa2-545c3d3b9ac7",
        "outputId": "43dc36a2-8b0b-41ee-82e4-296cc3fd0a42"
      },
      "outputs": [
        {
          "name": "stderr",
          "output_type": "stream",
          "text": [
            "                                                                                \r"
          ]
        },
        {
          "data": {
            "text/plain": [
              "[('او او او \\nصدای مردم ایران علیه دیکتاتور مثل همیشه جهانی شد و حتی به ارتش اسرائیل هم رسید💥\\n\\n#صادق_بوقی https://t.co/lFZN0C2hG3',\n",
              "  'generated'),\n",
              " ('این چیزها رو نکشید بچه\\u200cها 😂 https://t.co/nMb1Q5j61c', 'generated'),\n",
              " (\"ملت اسپانیا می\\u200cتواند بهترین الگوی میهن\\u200cپرستان ایرانی در راه خیزش ملی باشد. اسپانیایی\\u200cها برای احیاء هویت ملی از اسلام اموی، فاشیسم، جمهوری\\u200c، تجزیه\\u200cطلب\\u200cها و در نهایت از کمونیست\\u200cهای چپ\\u200cگرا عبور کردند. ایرانیان نیز این توان را دارند. در این مسیر همه چیز به 'سوگند قاهره' برمی\\u200cگردد. https://t.co/2AiM1hQWiC\",\n",
              "  'generated'),\n",
              " ('13 سال حبس برای #مهسا_یزدانی عزیز مادر جاویدنام #محمدجواد_زاهدی به جرم دادخواهی . \\n\\nنکته اصلی اینه که با بایکوت کامل مازندران توسط شبکه های خبری و حقوق بشری،دادگاه انقلاب ساری طی یک سال گذشته سنگین ترین احکام رو به راحتی وعدم ترس از افکارعمومی صادر کرد \\nهیچوقت از مازندران نگفتید https://t.co/W5NOpA3K9V',\n",
              "  'generated'),\n",
              " ('🔴لشکرکشی به #اسلو نه تنها مُوَلد محبوبیت (اصلاحطلبان)نگردید،بلکه جامعه ی آزادیخواهِ هویت دار و سلبریتی زده و مخالف #واقعی جمهوری اسلامی را مصمم تر در ابراز ناخشنودی از  این جایزه ی فرمایشی کرد تا رشته ی تیم فائزه،پنبه شود.\\n\\nکاری از @Radiomashrooteh \\nبا تشکر از @SaghiZvr https://t.co/aqSv9aGyWa',\n",
              "  'generated'),\n",
              " ('چهره چپ ها و بی وطن ها روز به روز برای مردم نمایان تر می شود.\\nپارسال در کامنت های گلشیفته قلب مردم مشاهده می شد، امروز خشم مردم!\\n\\nجا داره به این جمله پرویز ثابتی (در اوج محبوبیت چپ در ایران) دوباره نگاهی کنیم. https://t.co/w5N7s6L6VZ',\n",
              "  'generated')]"
            ]
          },
          "execution_count": 53,
          "metadata": {},
          "output_type": "execute_result"
        }
      ],
      "source": [
        "target_user_tweets = parsed_rdd.flatMap(lambda x: target_user_tweets_parser(target_user,x))\n",
        "target_user_tweets.collect()"
      ]
    },
    {
      "cell_type": "code",
      "execution_count": null,
      "id": "e3ada4e5-2259-40e4-ac4b-e2b3f1596e70",
      "metadata": {
        "id": "e3ada4e5-2259-40e4-ac4b-e2b3f1596e70",
        "outputId": "2a1f3d50-a6b2-40c1-8a84-48c44212171d"
      },
      "outputs": [
        {
          "name": "stderr",
          "output_type": "stream",
          "text": [
            "                                                                                \r"
          ]
        },
        {
          "data": {
            "text/plain": [
              "296851"
            ]
          },
          "execution_count": 54,
          "metadata": {},
          "output_type": "execute_result"
        }
      ],
      "source": [
        "similars_rdd = grouped_rdd.flatMap(lambda x:pearson_coeff(target_user,x))\n",
        "similars_rdd.count()"
      ]
    },
    {
      "cell_type": "code",
      "execution_count": null,
      "id": "ca496c66-76f7-4ea0-a861-a0c5d77e37cb",
      "metadata": {
        "id": "ca496c66-76f7-4ea0-a861-a0c5d77e37cb",
        "outputId": "c1ad5b3a-1df9-4b9a-875c-dd10bdf41718"
      },
      "outputs": [
        {
          "name": "stderr",
          "output_type": "stream",
          "text": [
            "                                                                                \r"
          ]
        },
        {
          "data": {
            "text/plain": [
              "296851"
            ]
          },
          "execution_count": 55,
          "metadata": {},
          "output_type": "execute_result"
        }
      ],
      "source": [
        "sorted_similars_rdd = similars_rdd.sortByKey()\n",
        "sorted_similars_rdd.count()"
      ]
    },
    {
      "cell_type": "code",
      "execution_count": null,
      "id": "d2da0e50-fac7-4339-81a5-9ef033c2cd38",
      "metadata": {
        "id": "d2da0e50-fac7-4339-81a5-9ef033c2cd38",
        "outputId": "ce1e2ddc-41ee-47c1-8d9e-adf22b77bfe9"
      },
      "outputs": [
        {
          "name": "stderr",
          "output_type": "stream",
          "text": [
            "                                                                                \r"
          ]
        },
        {
          "data": {
            "text/plain": [
              "[(1.3416407864998738, '945011311364198400'),\n",
              " (1.3416407864998738, '874899555892047873'),\n",
              " (1.3416407864998738, '635905500'),\n",
              " (1.3416407864998738, '2862756077'),\n",
              " (1.3416407864998738, '2290250094'),\n",
              " (1.3416407864998738, '1691135810152681493'),\n",
              " (1.3416407864998738, '1685283609635377152'),\n",
              " (1.3416407864998738, '1661997428285874177'),\n",
              " (1.3416407864998738, '1650891665077334017'),\n",
              " (1.3416407864998738, '1643665017366097920'),\n",
              " (1.3416407864998738, '1638852367868207106'),\n",
              " (1.3416407864998738, '1638667917972602880'),\n",
              " (1.3416407864998738, '1637515179394056193'),\n",
              " (1.3416407864998738, '1594224521950674946'),\n",
              " (1.3416407864998738, '1593036005455511552'),\n",
              " (1.3416407864998738, '1593027443861987328'),\n",
              " (1.3416407864998738, '1587417286842908672'),\n",
              " (1.3416407864998738, '1580960286978236416'),\n",
              " (1.3416407864998738, '1580447698200805378'),\n",
              " (1.3416407864998738, '1578814191674314762')]"
            ]
          },
          "execution_count": 56,
          "metadata": {},
          "output_type": "execute_result"
        }
      ],
      "source": [
        "similar_users = sorted_similars_rdd.top(20)\n",
        "similar_users"
      ]
    },
    {
      "cell_type": "code",
      "execution_count": null,
      "id": "a0d7423d-c72f-4a64-b2f1-52f58292ba2c",
      "metadata": {
        "id": "a0d7423d-c72f-4a64-b2f1-52f58292ba2c",
        "outputId": "48098828-15a7-4139-99fb-e6b71c71ffac"
      },
      "outputs": [
        {
          "name": "stderr",
          "output_type": "stream",
          "text": [
            "                                                                                \r"
          ]
        }
      ],
      "source": [
        "recomm_tweets_ids = grouped_rdd.flatMap(lambda x: similar_tweets_score(similar_users,x)).collect()"
      ]
    },
    {
      "cell_type": "code",
      "execution_count": null,
      "id": "03aa507f-3dc4-4b32-9a5b-bc33b3279898",
      "metadata": {
        "id": "03aa507f-3dc4-4b32-9a5b-bc33b3279898"
      },
      "outputs": [],
      "source": [
        "recomm_tweets_ids.sort(key=lambda a: a[0],reverse = True)"
      ]
    },
    {
      "cell_type": "code",
      "execution_count": null,
      "id": "38375b87-81b1-46d1-b466-90c3674a1f42",
      "metadata": {
        "id": "38375b87-81b1-46d1-b466-90c3674a1f42",
        "outputId": "b3d8e5d6-61ea-4f25-b867-792c02f4ce48"
      },
      "outputs": [
        {
          "data": {
            "text/plain": [
              "[(4.024922359499621, '1734638622920298899'),\n",
              " (4.024922359499621, '1736829679644868705'),\n",
              " (4.024922359499621, '1735674240941035753'),\n",
              " (4.024922359499621, '1735703356704727448'),\n",
              " (4.024922359499621, '1734303030772683235'),\n",
              " (4.024922359499621, '1735743796418150653'),\n",
              " (4.024922359499621, '1735431247524999614'),\n",
              " (4.024922359499621, '1736551527198658808'),\n",
              " (4.024922359499621, '1735489509817532581'),\n",
              " (4.024922359499621, '1735490187638034513'),\n",
              " (4.024922359499621, '1735491111907393642'),\n",
              " (4.024922359499621, '1735492658921923071'),\n",
              " (4.024922359499621, '1735493682059452843'),\n",
              " (4.024922359499621, '1734512533652857019'),\n",
              " (4.024922359499621, '1734908880897929434'),\n",
              " (4.024922359499621, '1734665362262671482'),\n",
              " (4.024922359499621, '1734665362262671482'),\n",
              " (4.024922359499621, '1735713588088607109'),\n",
              " (4.024922359499621, '1736168545619231053'),\n",
              " (4.024922359499621, '1736169799418331389')]"
            ]
          },
          "execution_count": 59,
          "metadata": {},
          "output_type": "execute_result"
        }
      ],
      "source": [
        "recommend_tweets_ids = recomm_tweets_ids[0:20]\n",
        "recommend_tweets_ids"
      ]
    },
    {
      "cell_type": "code",
      "execution_count": null,
      "id": "a8169b6a-275c-43a0-a380-c5cfd2033757",
      "metadata": {
        "id": "a8169b6a-275c-43a0-a380-c5cfd2033757",
        "outputId": "7e69df9c-e1cf-440b-ed77-6e894506258b"
      },
      "outputs": [
        {
          "name": "stderr",
          "output_type": "stream",
          "text": [
            "                                                                                \r"
          ]
        },
        {
          "data": {
            "text/plain": [
              "[('جالبه عکسایی که ترند شده با عکس های شاهنشاه کون دو قشر رو بشدت سوزونده 😂\\nاول عرزشیا ک خب تکلیفشون مشخصه\\nو قشر دوم چپولای بی وطن\\nیعنی هموطن بدون ک اینا عقایدشون به عرزشیا خیلی نزدیکتر از اون چیزیه ک فکرشو کنی \\nپس چشاتو باز کن و بعد تصمیم بگیر',),\n",
              " ('ماجرای نوبل از دید من:\\n۱-بعد\\u200c جدی شدن داستان مهسا اصلاح طلبا به فکر یه خمینی زنانه افتادن و بهترین گزینه هم مسیح بود و خب شروع کردن بولد کردنش و شناسوندن مسیح به مردم و بعدم با اوردنش کنار شاهزاده تقریبا به چیزی ک میخواستن رسیدن\\nاما بعد این ک جو اروم شد و آب از آسیاب افتاد',),\n",
              " ('۲-یمدت همه چی ساکن شد و بعد دوباره اومدن مسیح بولد کنن و چی بهتر از جایزه نوبل که یهو کارما زد به کمر مسیح و رفیقاش و دستش رو شد و همونجاها بود ک امریکا گفتش دیگه نیازی به حمایت امنیتی ما نداری و خب اینجا دست اقایون موند تو حنا ک\\u200c چه کنیم چه نکنیم به فکر نرگس محمدی افتادن',),\n",
              " ('۳-اما خب نرگس محمدی رو کی میشناسه ؟ هیشکی!\\nچطوری بشناسونیم؟کی بهتر از گلشیفته! \\nاما خود گلشیفته هم از یاد رفته ! \\nچ کنیم ؟\\nکمتر از ی ماه قبل از نوبل ، سینا اومد یک ساعت برنامه شو اختصاص داد ب گلشیفته و اونجا شد ک خودمم حتی تا حدی  با حرفاش همدردی کردمو خلاصه تئاتر جدید شروع شد!',),\n",
              " ('۴-بولد شدن گلشیفته استارتش خورد و طبق طبع چپ ایرونی جو عالم برش داش!\\nاما این احمقا اینجارو نخوندن هر کیم میخوای باشی با هر سرگذشتی اما اگه یه قدم ضدملت ایران یا فرهنگ مردم ایران یا جوون هایی ک برای ایران زندونی شدن و خون دادن برداری کامل تو دل ملت آگاه و ملی گرای ایران میمیری!',),\n",
              " ('۵-و در نهایت پایان نوبل کاملا خلاف نمایشی که از روی ۵۷ تو ذهن پوکشون چیده  بودن رقم خورد:)))',),\n",
              " ('چهل سالگی شو ندید ولی برای وطنش جنگید و اسمش تا ابد به عنوان قهرمان توی تاریخ ایران ثبت شد!\\nاگه الان مجیدرضا زنده بود قطعا شماهارو با قاتل های خودش به یک چشم میدید\\nفکر کردین میتونین رو خون بچهامون راه برید و ما مردمم لال میمونیم ؟؟؟ https://t.co/pF8ymQwm6D',),\n",
              " ('این عرزشیا علاوه بر مغز و شعور  واقعا قلب و ریه هم ندارن😂\\nی عرزشی راننده تاکسیه پنجره رو میبنده هیچی قفلشم زده نتونم باز کنم😂🤦🏻\\u200d♀️\\nمومن هوا موندس درسته بیرون الودس ولی دلیل نمیشه یک ساعت و نیم تو هوای مونده بدون تهویه نفس بکشم😂🤦🏻\\u200d♀️😭',),\n",
              " ('هرروز این مطلب را تکرار کنیم \\n تا دل و جانمان صیقل داده شود \\nتنها راه نجات ملت ایران \\nجانم فدای پادشاهم #رضاشاه_دوم \\nتا ابد \\n#جاویدشاه\\n#KingRezaPahlavi https://t.co/acHNDZ0v8n',),\n",
              " ('چه خوبنننننن https://t.co/weYHaUxOEd',),\n",
              " ('چه خوبنننننن https://t.co/weYHaUxOEd',),\n",
              " ('خانواده\\u200cهای دادخواه یک هشتگ #مرگ_بر_اصلاحات زدند، #فرقه_جنون زنجیر پاره کرد.',),\n",
              " ('عاشق این شعار م  \\n#مرگ_بر_سه_فاسد_ملا_چپی_مجاهد  تا ابد  #پاینده_ایران_یکپارچه_جاوید_شاهنشاه_رضا_شاه_دوم نترسید از ساسپند شدن، اکانتی که برای مبارزه با #ایرانستیزان ازش استفاده نشه بهتره نباشه. #مرگ\\u200cبر\\u200cفتنه۵۷\\u200cو\\u200cدلداگانش',),\n",
              " ('مجاهدین ب چه روزی افتادن:) https://t.co/tJfE0GRbEz',),\n",
              " ('نسل شیک پاسارگادی چه زیبا گفتن \\n«نسل ما راه خودش را پیدا کرده »\\n\\nما سربازان ایران آماده ایم برای \\nشاهمان #رضاشاه_دوم\\n \\nواین نسل آگاه ، با دل و جان ،از خودگذشتگی کنیم \\nچون #ما_ملت_کبیریم_ایران_رو_پس_میگیریم \\n\\nتا ابد #جاویدشاه @PahlaviReza \\n#KingRezaPahlavi \\n#پهلوی_امید_ملت https://t.co/cGt9cx2GKQ',),\n",
              " ('اکثریت #ایرانیان\\n #KingRezaPahlavi \\nرا دوست دارند در نقش شاه #ایران ببینند. رای گیریهای مختلف مجازی، آمار گیریهای حتی اصلاحطلبان صادراتی و داخلی مثل عمار ملکی و بلومبرگ فارسی و حتی علی تجزیه، همه پاسخهاشون یکسان بوده. اکثریت مطلق مردم خواستار برقراری مجدد پادشاهی #پهلوی هستند',),\n",
              " ('اصلاحطلبهای پفیوز صادراتی، گرگهای در لباس میش، شماها که پارسال ما و پرچم کشورمون رو مسخره میکردید. الان که دیدید در اقلیت محضید بفکر مصادره پرچم و اعتراضات ما افتاده اید؟ برای ناکام گذاشتن این حیله اتان که مثل قرآن بر نیزه کردنست،  با این پرچم آرتش آریامهری چه خواهید کرد؟ https://t.co/q1UOPYdtUr',),\n",
              " ('امروز تو وضعیتیم ک از هیچی راضی نیستم',),\n",
              " ('کاش تلگرام گزینه دی اکتیو داشت',),\n",
              " ('درد و بلای علیاحضرت یاسمین پهلوی بخوره تو فرق سر هر چی #ایرانستیز بی اخلاق است. https://t.co/lZErurKmXi',)]"
            ]
          },
          "execution_count": 60,
          "metadata": {},
          "output_type": "execute_result"
        }
      ],
      "source": [
        "recommended_tweets = parsed_rdd.flatMap(lambda x: recommended_tweets_parser(recommend_tweets_ids,x))\n",
        "recommended_tweets.collect()"
      ]
    },
    {
      "cell_type": "markdown",
      "id": "dabac623-8f74-49b5-8bba-32884ced5e43",
      "metadata": {
        "id": "dabac623-8f74-49b5-8bba-32884ced5e43"
      },
      "source": [
        "***\n",
        "# $\\text{Type #4 User}$"
      ]
    },
    {
      "cell_type": "code",
      "execution_count": null,
      "id": "aa59794b-b5cc-455d-a351-e37de4bcadd7",
      "metadata": {
        "id": "aa59794b-b5cc-455d-a351-e37de4bcadd7",
        "outputId": "a8a35180-c392-4363-9d9c-393a73e27bd9"
      },
      "outputs": [
        {
          "name": "stderr",
          "output_type": "stream",
          "text": [
            "                                                                                \r"
          ]
        },
        {
          "data": {
            "text/plain": [
              "('4702453171',\n",
              " [('4702453171', '1734001719539810691', 3),\n",
              "  ('4702453171', '1734471154646049090', 3),\n",
              "  ('4702453171', '1734471452450005121', 3),\n",
              "  ('1653467502972682270', '1734079495177461916', 2),\n",
              "  ('25710094', '1734490763394798040', 2),\n",
              "  ('60171166', '1736513161631588535', 2),\n",
              "  ('17532913', '1734073641908981882', 2),\n",
              "  ('4702453171', '1733813004280459569', 2),\n",
              "  ('4702453171', '1734086631366311958', 3),\n",
              "  ('4702453171', '1734086631366311958', 2),\n",
              "  ('17532913', '1734087759646871761', 2),\n",
              "  ('4702453171', '1734096096526291087', 3),\n",
              "  ('4702453171', '1734099408688488815', 3),\n",
              "  ('4702453171', '1734099878626705917', 3),\n",
              "  ('4702453171', '1734100866527817896', 3),\n",
              "  ('4702453171', '1735916939380212209', 3),\n",
              "  ('4702453171', '1734103110279102546', 3),\n",
              "  ('4702453171', '1726253167547924649', 2),\n",
              "  ('15090494', '1734104725874713032', 2),\n",
              "  ('360461731', '1734106135055958309', 2),\n",
              "  ('1271067471760568322', '1734105477301117383', 2),\n",
              "  ('4702453171', '1734108334402228647', 3),\n",
              "  ('767126934', '1734108466426380588', 2),\n",
              "  ('302678816', '1736273645201182727', 2),\n",
              "  ('4702453171', '1736290273133490433', 3),\n",
              "  ('302678816', '1736289193905594796', 2),\n",
              "  ('767126934', '1734118849220374966', 2),\n",
              "  ('712752292194357249', '1735382946834518426', 2),\n",
              "  ('767126934', '1734119784206172308', 2),\n",
              "  ('701771232', '1735211967982272607', 2),\n",
              "  ('1321668098076954624', '1735938271702564881', 2),\n",
              "  ('824950806411624448', '1735580501056819243', 2),\n",
              "  ('824950806411624448', '1735580764895334548', 2),\n",
              "  ('4702453171', '1736308051324387667', 3),\n",
              "  ('1734473657940946944', '1735583061285179397', 2),\n",
              "  ('4702453171', '1734134990097518886', 3),\n",
              "  ('1676645415758733333', '1734136964343898342', 2),\n",
              "  ('4702453171', '1735580419205091753', 2),\n",
              "  ('4702453171', '1735951311202316406', 3),\n",
              "  ('1271067471760568322', '1736310685238268342', 2),\n",
              "  ('4702453171', '1735951311202316406', 2),\n",
              "  ('1141720339', '1735953233720246476', 2),\n",
              "  ('4702453171', '1734142887552549260', 3),\n",
              "  ('1676645415758733333', '1734139635738009661', 2),\n",
              "  ('4702453171', '1736315796605817179', 3),\n",
              "  ('60171166', '1736686396276891799', 2),\n",
              "  ('4702453171', '1735956104247484746', 3),\n",
              "  ('4702453171', '1735960050726842606', 3),\n",
              "  ('4702453171', '1734151214852444359', 3),\n",
              "  ('4702453171', '1735968721225605288', 3),\n",
              "  ('3140575865', '1735974424472432879', 2),\n",
              "  ('597673178', '1734950125850833149', 2),\n",
              "  ('4702453171', '1734164069148492141', 3),\n",
              "  ('1322110382455087106', '1735979725829419189', 2),\n",
              "  ('4702453171', '1734638728558362920', 3),\n",
              "  ('4702453171', '1735235674977034592', 2),\n",
              "  ('840241125499777024', '1734645197139497160', 2),\n",
              "  ('4702453171', '1734179665147805779', 3),\n",
              "  ('1639263584407416839', '1734179803899555964', 2),\n",
              "  ('1639263584407416839', '1734180929269023060', 2),\n",
              "  ('60171166', '1734180970050310521', 2),\n",
              "  ('1387366298099798025', '1735263247018651678', 2),\n",
              "  ('855095592', '1736351208460194151', 2),\n",
              "  ('4702453171', '1734931036251869266', 3),\n",
              "  ('1062546499', '1736309770812793130', 1),\n",
              "  ('855095592', '1736353904416198814', 2),\n",
              "  ('4702453171', '1735268263754354725', 3),\n",
              "  ('1010561817997922308', '1735268155583267124', 2),\n",
              "  ('1062546499', '1736309770812793130', 2),\n",
              "  ('4702453171', '1735255090083078151', 2),\n",
              "  ('4702453171', '1736363003379884521', 3),\n",
              "  ('4702453171', '1736009369383243808', 3),\n",
              "  ('855095592', '1736363383593578831', 2),\n",
              "  ('4702453171', '1735968721225605288', 2),\n",
              "  ('302678816', '1736366887057887492', 2),\n",
              "  ('4702453171', '1736013977610592680', 3),\n",
              "  ('4702453171', '1736014753456177493', 3),\n",
              "  ('1231450050389315585', '1736016324734714299', 2),\n",
              "  ('824950806411624448', '1736016158841532843', 2),\n",
              "  ('824950806411624448', '1736018543064367317', 2),\n",
              "  ('1567482915600142339', '1735285273020203467', 2),\n",
              "  ('1206642366830002179', '1734220953184268661', 2),\n",
              "  ('46853901', '1734226095593976099', 2),\n",
              "  ('1152293110212263937', '1734212837583507605', 1),\n",
              "  ('4702453171', '1735668040014979319', 3),\n",
              "  ('1576644054699642880', '1736778687595336173', 2),\n",
              "  ('4702453171', '1734230963670986760', 3),\n",
              "  ('4702453171', '1734694077206254058', 2),\n",
              "  ('1576644054699642880', '1736783279682998688', 2),\n",
              "  ('1562505373285658631', '1735327273933267052', 2),\n",
              "  ('1562505373285658631', '1735327920371958034', 2),\n",
              "  ('1677469467637342209', '1736415934116507919', 2),\n",
              "  ('4702453171', '1735002509410762777', 3),\n",
              "  ('4702453171', '1735002509410762777', 2),\n",
              "  ('1562505373285658631', '1735336112640442651', 2),\n",
              "  ('732854166', '1735699878984982796', 2),\n",
              "  ('2685820495', '1734262222023545230', 2),\n",
              "  ('4702453171', '1735013203237617714', 3),\n",
              "  ('240631009', '1736041432056578393', 2),\n",
              "  ('4702453171', '1736086585462903227', 3),\n",
              "  ('4702453171', '1736087319415787587', 3),\n",
              "  ('302678816', '1735022147720859827', 2),\n",
              "  ('3304332625', '1735022541943587001', 2),\n",
              "  ('4702453171', '1734289632567689542', 3),\n",
              "  ('1556954568797392897', '1735336832911438191', 2),\n",
              "  ('4702453171', '1735360865161904553', 3),\n",
              "  ('1556954568797392897', '1735363164877869514', 2),\n",
              "  ('4702453171', '1736487283690233926', 3),\n",
              "  ('4702453171', '1736491571539775817', 3),\n",
              "  ('824950806411624448', '1736493528803315964', 2)])"
            ]
          },
          "execution_count": 69,
          "metadata": {},
          "output_type": "execute_result"
        }
      ],
      "source": [
        "target_user = grouped_rdd.takeSample(False,1,777)[0]\n",
        "target_user"
      ]
    },
    {
      "cell_type": "code",
      "execution_count": null,
      "id": "df736c09-e485-4b0d-8aee-9bb2ba3775aa",
      "metadata": {
        "id": "df736c09-e485-4b0d-8aee-9bb2ba3775aa",
        "outputId": "ea64a437-c9db-46c3-de22-bab1a28d6dfa"
      },
      "outputs": [
        {
          "name": "stderr",
          "output_type": "stream",
          "text": [
            "                                                                                \r"
          ]
        },
        {
          "data": {
            "text/plain": [
              "[('شما فقط قیمت یک اپ مثل #Blinkist رو برای استور ترکیه ببینید.\\nمفته واقعا\\nحالت عادی ١٠٠ دلاره\\nولی من با ٣٠٠ لیر میتونم بخرمش :)) https://t.co/snE0lCFuKD',\n",
              "  'generated'),\n",
              " ('آقا چرا بسته های اینترنتی این کفار اینقدر خوبن آخه.\\n\\nزده ۲۵ گیگ اینترنت با ۳ ماه یوتیوب پرمیوم و دیتای نامحدود برای واتساپ, یوتیوب, اسپاتیفای. همه اینا برای ۳ ماه اول ۳۷۰ لیر :/\\n\\nچرا تو ایران همچین چیزایی نداریم 😑\\n#Vodafone https://t.co/xoSKCGtk1k',\n",
              "  'generated'),\n",
              " ('چوشی اندرویدم که واقعا وضعیت وخیمی داره رو بعدها میدم تعمیر ولی تا اون موقع به عنوان روتر دارم استفاده میکنم ازش و خیلی خوب شده😁\\n\\nقدم بعدی حتما خرید یک روتر واقعیه',\n",
              "  'generated'),\n",
              " ('من درک نمیکنم این قضیه رو\\n\\nگوگل بزرگه\\nاپل هم بزرگه\\nکلی هم پایبند به قوانین مالی آمریکا هستند.\\n\\nولی چرا سیستم پرداخت اپل اینقدررر بی دردسر تر از گوگله؟\\nبرای گوگل باید کلی سند و مدرک و آیپی رزیدنشال جور کنی، ولی اپل میگه فقط پولو بده بهم و یه روش پرداخت تو اون کشور داشته باش و تمام.\\n\\nهمین موردم باعث میشه بازم بخوام این گوشیو نگه دارم.',\n",
              "  'generated'),\n",
              " ('@Nikolaona کل بوک\\u200cمارک\\u200cها، ولی حالا دیگه مجبورم داخل فولدرشم بزنم :))',\n",
              "  'replied'),\n",
              " ('@Nikolaona کل بوک\\u200cمارک\\u200cها، ولی حالا دیگه مجبورم داخل فولدرشم بزنم :))',\n",
              "  'replied'),\n",
              " ('گوشیم خیلی خوب باطری نگه میداره و منی که از یک گوشی با اسکرین تایم نهایت ٢ ساعت میام، اینی که کل روز شارژ نگه میداره برام خیلی خوشحال کنندس🥹\\n\\nامیدوارم مدت زیادی رو همینطوری بمونه',\n",
              "  'generated'),\n",
              " ('ولی هر بار که مدیرعامل شاتل توییت میزنه بهش حمله میکنن.\\nاون از دید اقتصادی میگه آقا وضعیت درآمدی خرابه\\n\\nملت از دید آزادی اینترنت و گرون بودنش میگن که خب هر دو اینا دست حکومته و نه یک شخص و مدیریتش. دیگه در این حد آزادی نداریم :))))',\n",
              "  'generated'),\n",
              " ('ولی هر بار که مدیرعامل شاتل موبایل توییت میزنه بهش حمله میکنن.\\nاون از دید اقتصادی میگه آقا وضعیت درآمدی خرابه\\n\\nملت از دید آزادی اینترنت و گرون بودنش میگن که خب هر دو اینا دست حکومته و نه یک شخص و مدیریتش. دیگه در این حد آزادی نداریم :))))',\n",
              "  'generated'),\n",
              " ('یکی بیاد یک توضیح عملی و درست حسابی بده من چطوری این آیفون رو نگه دارم که باطریش به فنا نره.\\nفوبیای باطری بد دارم :)))\\n۵ سال با یه گوشی سر کردم که اسکرین یک نیم, ۲ ساعت میداد.\\nاین الان یه ۷ ساعتی میده خیلی خرکیفم 😂',\n",
              "  'generated'),\n",
              " ('من فقط سر این جریانات بایپس لینک های ایران و کلا قدرت شخصی سازی ای که v2ray بهم میده، نمیتونم از vpn های معروف مثل اکسپرس یا نورد و ... استفاده کنم.\\nالبته مشکلی هم ندارم و راضیم :)))',\n",
              "  'generated'),\n",
              " ('این دیسکورد هر بار که باز میکنیش چرا اینقدر آپدیت میگیره.\\nبدبخت از تلگرام یاد بگیر.\\nهر بار آپدیت میده کلی چیز اضافه میکنه, تو ولی جز مصرف حجم چی داری؟\\nسنگین ترم هستی حالا 😑',\n",
              "  'generated'),\n",
              " ('@Nikolaona آیفون ؟\\nمهندس یعنی قید اندروید رو زدی ؟', 'replied'),\n",
              " ('@Nikolaona کلا این آقا بلد نیست چطور جواب کاربر خودشو بده و یا در یک فضای عمومی چطور رفتار کنه - اونم به عنوان مدیرعامل یک اپراتور.\\nمن از وقتی رفتار توهین\\u200cآمیزش رو دیدم گذاشتمش کنار و به اطرافیان خودم هم تجربیاتم رو منتقل کردم.',\n",
              "  'replied'),\n",
              " ('من شهر وان ترکیه تا به حال نرفته بودم, همیشه مقصدم استانبول بوده.\\nموقع برگشت قسمت شد دیدمش.\\n\\nآقا همه فارسی حرف میزنن که :))))\\nخود مغازه دارا فارسی بلدن\\nنوشته ها همه فارسی هستن\\nهمه ایرانی هستن\\nدستگاه پز ایرانی دارن :)))\\n\\nعملا یه شهری از ایرانه انگار 😂',\n",
              "  'generated'),\n",
              " ('@Nikolaona ریلکس استفاده کن بابا بعد دو سه سال اگه اومد زیر ۸۰ درصد میری باتری عوض میکنی',\n",
              "  'replied'),\n",
              " ('این کیف پول هم چقدر کارمزد میگیره. هر کاری میکنی یه درصد میگیره. \\nالان میگه کارت رو بخوای شارژ کنی باید تتر بگیری. هر تتر بگیری 8 % بر میدارم کارمزد.\\nهر تتر هم 23 لیر زده.\\nیعنی شما 100 تتر بگیری. \\n92 تتر میده بهت \\nمیشه 2116 لیر',\n",
              "  'generated'),\n",
              " ('من با DNS های Adguard عملا هیچ تبلیغی در برنامه های رایگان آیفون نمیگیرم.',\n",
              "  'generated'),\n",
              " ('@Nikolaona اگه apple care داشتی باشی تو مدت زمان کاور اگه بیاد زیر ۸۰ درصد که مفته بعدش فکر کنم ۱۰۰ دلار ایناست همه جا',\n",
              "  'replied'),\n",
              " ('@Nikolaona اون زمان روی چه حسابی ماهانه خدا تومن پول اکانت این سرویس\\u200cهای محدود رو میدادیم؟ \\nبادمه surfshark و Nord و اکسپرس و... من همچی رو همزمان داشتم😂',\n",
              "  'replied'),\n",
              " ('@Nikolaona حوصلش نیست اخه \\nدو سه بار ساختم من ای پی کثیف شد :(\\nاگه میفروشید که مزاحم بشیم',\n",
              "  'replied'),\n",
              " ('گفتم بهتون از ایفون مهاجرت کردم به گلگسی ؟\\nاس ۲۳ الترا گرفتم خیلی یهویی\\nاز نظر انتقال اطلاعات خیلی راحت بودم با اپ خود سامسونگ کل اطلاعات ایکلودم اوردم رو این یکی \\nتنها چیزی که الان اذیتم میکنه \\nاینکه کنار گوشیم زید گلسش هوا میره😭',\n",
              "  'generated'),\n",
              " ('جومونگ ۱ که همون اصلیه هست\\nجومونگ ۲ کدومه؟\\nمیگن ۳ رو هم دارن دوبله میکنن. اون کدومه؟\\n\\nکسی لینک imdb ای داره ازشون؟ 🤔',\n",
              "  'generated'),\n",
              " ('مهم:\\nمشاهده اپیزود جدید پادکست «آپدیت ام دی» را قویا به تمام جوانان، غیر جوانان، پشت میز نشینان، سالمندان و والدین توصیه می\\u200cکنم و خواهشمندم با ریتوییت، آن را با دیگران نیز به اشتراک بگذارید.\\nhttps://t.co/298wqd16cX',\n",
              "  'generated'),\n",
              " ('توی صفحه اصلی سامسونگ میشد اگر در یک صفحه فرضا کلی جای خالی دارید و صفحه بعدی هم همینطور, گزینه clean up pages رو بزنید و همه اپ ها جمع شن یک جا. تمیز تر دیده میشد اینطوری.\\n\\nهمچین چیزی برای آیفونم هست؟\\nمن اپ هام بین صفحات پخش شدن. دستی سخته انجامش',\n",
              "  'generated'),\n",
              " ('وضعیت  سایت «کیف پول من»\\nمن شخصا برگشت هزینه رو زدم.\\nهم تضمین دیگه نیست و هم اینکه هزینه شارژ حساب به شدت زیاده و عملا نمی صرفه https://t.co/EWjKDF1piR',\n",
              "  'generated'),\n",
              " ('@Nikolaona با توجه به چیزی که گفتی و درصورت نداشتن سرمایه\\u200cی زیاد فقط همین راه میمونه که دوره\\u200cی کارآموزیه( البته بازم اون ده یازده هزار یورو تمکن رو میخواد فکر کنم)\\nاینجا دسته بندی کرده چه کارآموزیایی دارن\\nخیلی تنوعشون زیاده ولی خب حقوقا خیلی متفاوته\\nhttps://t.co/NHUj8BDP5K',\n",
              "  'replied'),\n",
              " ('آیکون های پرمیوم اپ  X اصلا جذاب نیستند و نمیپسندمشون.\\nاز اون طرف آیکون های Discord خیلی به نسبت X بهترن. https://t.co/ifsnZEn6iX',\n",
              "  'generated'),\n",
              " ('نمیدونم یکهو چرا ۳۰ گیگ از لپتاپم پر شده.\\nهرچی کش و چیز اضافی هست رو پاک کردما.\\nولی خب :/\\nعجیبه',\n",
              "  'generated'),\n",
              " ('برای بار هزارم بهم ثابت شد که اگه تعداد زیادی ایرانی به یک سرویسی هجوم ببرن, اون سرویس قطعا به فنا خواهد رفت.\\n\\nبه همین دلیل نباید یه سری چیز هارو پاب کرد 🤦\\u200d♂️😑',\n",
              "  'generated'),\n",
              " ('بعد از سال ها ChatGPT Plus برام فعال شد.\\nقیمتش برای یک ماه میشه ۵۰۰ لیر\\nیه ذره ارزون تر میفته. مثلا ۹۰۰ تومن https://t.co/OnhY40bdAg',\n",
              "  'generated'),\n",
              " ('دارم دونه دونه اپ های زبان رو تست میکنم ببینم برای مکالمه کدومشون به دردم میخورن.\\nخوشبختانه تریال دارن همشون',\n",
              "  'generated'),\n",
              " ('دارم یکی یکی VPS های ترکیه رو تست میکنم ببینم کدومشون آیپی خوبی داره و با گوگل پلی اوکیه.\\nرزیدنشال طور میخوام.\\nقیمتاشون خیلی ارزونن\\nمثلا ۵۰ لیر!\\n\\nبا توجه به نداشتن بودجه کافی ماهی ۲-۳ تا تست میکنم فقط :))))',\n",
              "  'generated'),\n",
              " ('@Nikolaona یادم نمیاد \\n۳ ۴ تاشون قیمت شون خوب بود بقیه از هرتزنر هم گرونتر بودن\\nولی\\nنکته اینجا بود که \\nبه سرعت برق و باد ای پی ها فیلتر میشدن\\nحتی سریعتر از هرتزنر \\nدلیلی هم واسه اش ندارم\\n\\nاگه نتیجه گرفتی یه خبری هم به ما بده',\n",
              "  'replied'),\n",
              " ('اپ پادکست برای Ios که opml قبول کنه چیزی سراغ دارید؟\\nجز castbox',\n",
              "  'generated'),\n",
              " ('فیبرنوری کل ارومیه انگار انحصارا دست #صبانت هست!\\nهر نقطشو که میزنم صبانت رو نوشته',\n",
              "  'generated'),\n",
              " ('البته الان اسپاتیفای پلن ۳ ماهه پرمیوم رایگان هم داره.\\nمیتونید کارت فیک هم بزنید و اگه قبول شد استفادش کنید.\\n\\nهمین الان برای دوستم با کارت فیک گرفتم :)))) https://t.co/QEw09pML8u',\n",
              "  'quoted'),\n",
              " ('یه حساب کتاب کردم\\nمن ماهانه یک میلیون هزینه کل اشتراک هام میشه.\\nشت 🤐',\n",
              "  'generated'),\n",
              " ('@Nikolaona چت جی پی تی با قابلیت ویسش همرو میذاره جیبش بنظرم', 'replied'),\n",
              " ('@Nikolaona چچ اپی تست کردی راستی تلگرام پیام بده ایدی اون وی پی ان ترکیه رو بدم بهت',\n",
              "  'replied'),\n",
              " ('@Nikolaona مرسی، آفرهای ترکیه فکر کنم بهترن', 'replied'),\n",
              " ('@Nikolaona نه همه شون ولی یه سری هستن، شما پول کامل پرداخت میکنی قیمت میانگین بقیه سایتا، ولی اکانتو نمیخرن تریال بود یا پس پرداخت بود انجام نمیدادن و ... هر داستانی که بود، تجربه ای که یکی از دوستا داشت سر دقیقا هر 2 ماه ایمیل میومد از فمیلی ریموو شدید، پشتیبانی هم بهونه تغییر آیپی میاورد',\n",
              "  'replied'),\n",
              " ('@Arash_shsh @Nikolaona هزینه های پنهانشونو نمیدونم ولی به قیمت الان روی اسپاتیفای و یوتیوب، حداقل 100 درصد سود، البته به خاطر شرایط ترکیه اسپاتیفای سالی 1 بار افزایش قیمت داده و یوتیوب پرمیوم هم یکدفعه ای 2 برابر شد چند هفته پیش که البته تو کل دنیا افزایش قیمت بود ولی در کل باز هم سود خوبی روشه',\n",
              "  'replied'),\n",
              " ('خببب آخرش برا خودم رفتم یه اسکریپت نوشتم تو raycast که حجم باقی مونده رایتلمو راحت نشون میده.\\nکلهم با chatgpt شد.\\n\\nدیگه هی لازم نیس پاشم برم وبسایت داغونشون 🤦\\u200d♂️\\nببینم بعدا میشه ویجت مک هم براش بسازم 😁 https://t.co/aaRecJl106',\n",
              "  'generated'),\n",
              " ('@Nikolaona جایی پیدا نکردم کارت فیک درست بده\\nسایتا هم که generate میکنن دو سه تا زدم قبول نکرده، از کجا کارت اوردی میشه معرفیش کنی؟',\n",
              "  'replied'),\n",
              " ('پشتیبانی اسپاتیفای توی X جواب سوالم رو توی ۴ دقیقه داد و مشکلم رو پیگیری کرد :)\\nپشمانم.',\n",
              "  'generated'),\n",
              " ('وای پسر این مدل کپچاها منو سرویس کردنااا https://t.co/FZ4Q8O9zYS',\n",
              "  'generated'),\n",
              " ('@Nikolaona @Arash_shsh البته افزایش قیمتا شوخیه درصدش :) غیر این داستان یوتیوب که یهو ترکیه رو دقیق ترش فکر کنم 80 درصد زیاد کرد اونم تو دنیا بود درصد کمتر بیشتر ولی همراه داستان مبارزه با اد بلاکرا بود، اسپاتیفای مختصره افزایش، فقط پلن شخصی اسپاتیفای میشه 12 ماهو یکجا داد با قیمت روز',\n",
              "  'replied'),\n",
              " ('روی جیمیل اصلیم یوتیوب پرمیوم گرفتم\\nشد ۵۸ لیر\\nالبته تریاله این :)\\n\\nبعد اینکه فمیلی بخوایم اوکی کنیم تا ۵ نفر میشه.\\n۶ ماهش میفته ۲۵۰ هزار تومن :)))))))\\nخیلی خوبه که https://t.co/GtdgeCd064',\n",
              "  'generated'),\n",
              " ('@Nikolaona برو خدا رو شکر کن. ما هی راه پله و چراغ راهنمایی و موتور تشخیص میدیم',\n",
              "  'replied'),\n",
              " ('بزرگترین مشکل پرداخت های درون برنامه ای گوگل فقط همین Physical Location هست که باید منبع پرداخت با اون یکی باشه.\\n\\nمثلا اگر گیفت کارت گوگل پلی ترکیه دارید و یا مسترکارت ترکیه, حتما باید یک آیپی خوب هم کنارش داشته باشید تا راحت بتونید ازش خرید کنید.\\nوگرنه قطعا مشکل خواهید داشت',\n",
              "  'generated'),\n",
              " ('پسر الان فهمیدم این سایت هایی که اسپاتیفای فمیلی یا یوتیوب فمیلی میفروشن و  کلا فمیلی های ترکیه رو, چقدرررررر سود میکنن.\\n\\nسود به شدت زیادی دارن.',\n",
              "  'generated'),\n",
              " ('@Nikolaona اره اپل موزیک هم همین بود!\\nمن یه ماهه میخواستم بگیرم برای تست \\nولی مثل اینکه اول میخواستن پلن سه ماهه رو بفروشن \\nپول یه ماهه رو گرفتن ازم ولی پلن فمیلی سه ماهه بهم دادن!\\nریجنم هم گفتن به ترکیه تغییر بده',\n",
              "  'replied'),\n",
              " ('@Nikolaona ریچ هایی که مک دارن', 'replied'),\n",
              " ('@Nikolaona ببخشید الان چطوری این افر به شما داده شده ؟\\nمن الان ریجن اسپاتیفای رو ببرم روی ترکیه،توی وبسایت اسپاتبفای قیمت\\u200cها برام اینجوری میشه و اینقدر کم میشه؟چیکارباید بکنم',\n",
              "  'replied'),\n",
              " ('جدیدا سایت Nitter رو دیدم که همون Twitter هست ولی تمام درخواست ها سمت سرور خودشون انجام میشه. جالب بود برام.\\nنمیدونم abuse حساب میشه یا نه ولی خب خوراک Crawl کردن هست.\\nطبق گفته خودش، از Private API های توییتر داره استفاده میکنه که یعنی ریت لیمیت نداره و از دولوپر اکانت نمیخواد',\n",
              "  'generated'),\n",
              " ('من ولی نصف بیشتر دردسر هام سر این بود که ۱.۱.۱.۱ میزدم 😐\\nالان که اومدم ۸.۸.۸.۸ رو زدم کلا خیلی از مشکلام حل شدن.\\nعجبببب https://t.co/pR3S1xHxG3',\n",
              "  'generated'),\n",
              " ('@Nikolaona نصب کردم مرسی فقط ارور میده ایونت داد نمی\\u200cکنه برم سربه\\u200cسرش بذارم فعلا😂',\n",
              "  'replied'),\n",
              " ('عزیزان تلفظ وی پی ان  Windscribe اصلا واینداسکرایب نیست!\\nنمیدونم این وایند رو کی باب کرد! از کجاشون در آوردند.\\n\\nوینداسکرایبه این.\\nویند\\nویند\\nویند',\n",
              "  'generated'),\n",
              " ('@Nikolaona این ترکیه\\u200cای بودنش، تاثیری در دسترسی\\u200cها و امکانات داره کلا؟ یا فقط هزینه رو کم می\\u200cکنه و برای ما ایرانی\\u200cها به صرفه\\u200cتر میشه؟',\n",
              "  'replied'),\n",
              " ('@Nikolaona نه فقط میخواستم بدونم تا حالا ازشون خرید داشتی یا نه:)\\nبازم ممنون\\nفقط با مستر کارت ترکیه باید vpn ترکیه هم بزنیم دیگه؟\\nچون ریجن اسپاتیفای هم باید عوض بشه فک کنم',\n",
              "  'replied'),\n",
              " ('ترند الان هم کارت بانکی  خارجی  هست.\\nخصوصا از نوع مسترکارتش.\\n\\nهرجارو نگاه میکنی دارن مسترکارت شخصی با اسم شخص میدن :)\\n\\nحالا مساله اینه که این ها شاید برای تعداد کم اوکی باشن ولی وقتی تعداد زیادی ایرانی ازشون استفاده میکنند نتیجش میشه «کیف پول من» و «پی\\u200cلیر» https://t.co/JzTth0B5ls',\n",
              "  'generated'),\n",
              " ('@Nikolaona بعد یه سوال دیگه\\nبعد بخوام با همین ریجن گوگل پلی عوض کنم میشه؟\\nمثلا همین مستر کارت رو اد کنم گوگل پلی ریجنم بشه ترکیه(تا حالا نکردم)',\n",
              "  'replied'),\n",
              " ('عزیزان ساده\\u200cترین و ارزونترین راهی که یه پنل از یکی از دیتاسنترای معتبر اروپایی بگیرم چیه؟ حالا از هتزنر یا ovh و غیره... من یه پیپال داشتم و همه کارامو با اون میکردم که بن شد متاسفانه و الان هیچ سروری ندارم و برای تست تکنولوژی\\u200cهایی که توسعه میدم به پنل نیاز دارم نه یه تک سرور',\n",
              "  'generated'),\n",
              " ('روی آیفون چون نمیشد VPN خودم رو به شکل sock5 استفاده کنم و بعد روی ادگارد اجراش کنم پس درنتیجه  DNS ادگارد رو زدم و همچنان بدون تبلیغات دارم کار میکنم :))\\nیه سری برنامه دارم که چون نسخه رایگان هستند همش تبلیغ نمایش میدن, ولی با DNS ادگارد نه.\\nدر ضمن خود اپ ادگارد روی آیفون هم خیلی ناقصه به نسبت اندروید.',\n",
              "  'generated'),\n",
              " ('ولی جدا جوینده یابنده هست.\\nریسک زیاد هم قبول کنید دیگه عالی میشه.',\n",
              "  'generated'),\n",
              " ('واییی پسر من vpn شخصی خودم خیلییییی خوبه\\nواقعا شخصی سازی خوبی کردمش.\\nامیدوارم که نرینن به اینترنتا و هیچی نشه',\n",
              "  'generated'),\n",
              " ('ولی اینو بگم\\nبازار پر از آیفون ۱۳ رفرش و تعمیری و دست دو هست.\\nقشنگ یکی بلد نباشه بدجور میکنن تو پاچه',\n",
              "  'generated'),\n",
              " ('چه برنامه باحالیههه این #Lungy\\nاگه میخواید که تمرین تنفس بکنید میتونید این برنامه رو فقط روی آیفون و آیپد نصب کنید و از تنفس و انیمیشن های خوبش لذت ببرید.\\nاینجا من دارم توش فوت میکنم و این مربع کوچیکا پخش میشن اینور اونور :)))\\n\\nسالانش میشه ۲۰۰ لیر, ببینم موفق میشه که بخرمش یا نه :)))\\n\\nلینک دانلود:\\nhttps://t.co/wnDv9AzoT8',\n",
              "  'generated'),\n",
              " ('داستان فیلم درباره از کار افتادن اینترنت و کلیه سیستمهای مخابراتی و ارتباطی توسط حمله سایبری به آمریکاست و اعلامیه هایی با شعار «مرگ بر آمریکا» پخش میشه. \\nدر این بخش از فیلم در زیرنویس نوشته کار داعش بوده اما در دیالوگ گویا میگه ایران. درست میشنوم؟ https://t.co/U0dnXB66iz',\n",
              "  'generated'),\n",
              " ('خب نگو مشکل اصلی من که نمیشد از روی مک به غیر iMessage دار ها اسمس عادی بفرستم و یا اینکه نمیشد تماس هام رو روی مک داشته باشم سر این بود که باید یک بار اپل آیدیمو از روی مک لاگ اوت میکردم و دوباره میزدم :)))\\nالان تست کردم و همه چی خیلی عالی کار میکنه 😍\\nهم sms\\nهم تماس',\n",
              "  'generated'),\n",
              " ('الان یک ریسکی کردم و برای اپل آیدی خودم Recovery Key زدم.\\n\\nاینطوریه که اگه نه تلفن هام کار کنن تا کد دومرحله ای بیاد یا هر اتفاق دیگه ای بیفته, معمولا با ساپورت اپل میشد حلش کرد.\\nالان عملا دسترسی اپلم بستم و عملا تا این کد نباشه نمیشه کاری کرد.\\nامنیت حساب بالا میره اره ولی اینو گم کنی دیگه بدبخت میشی.\\nیعنی اینو پاک کنم و برگردم حالت عادی؟ 🤔',\n",
              "  'generated')]"
            ]
          },
          "execution_count": 70,
          "metadata": {},
          "output_type": "execute_result"
        }
      ],
      "source": [
        "target_user_tweets = parsed_rdd.flatMap(lambda x: target_user_tweets_parser(target_user,x))\n",
        "target_user_tweets.collect()"
      ]
    },
    {
      "cell_type": "code",
      "execution_count": null,
      "id": "d97b996b-09bc-462a-a57c-db3ff19979b1",
      "metadata": {
        "id": "d97b996b-09bc-462a-a57c-db3ff19979b1",
        "outputId": "3497fd73-6e7b-4118-b4c4-a5bc6a6d2a37"
      },
      "outputs": [
        {
          "name": "stderr",
          "output_type": "stream",
          "text": [
            "                                                                                \r"
          ]
        },
        {
          "data": {
            "text/plain": [
              "296851"
            ]
          },
          "execution_count": 71,
          "metadata": {},
          "output_type": "execute_result"
        }
      ],
      "source": [
        "similars_rdd = grouped_rdd.flatMap(lambda x:pearson_coeff(target_user,x))\n",
        "similars_rdd.count()"
      ]
    },
    {
      "cell_type": "code",
      "execution_count": null,
      "id": "2b986e3b-c1f3-4600-9dcb-bd66bfaf43da",
      "metadata": {
        "id": "2b986e3b-c1f3-4600-9dcb-bd66bfaf43da",
        "outputId": "7a4f8a5c-5a52-47d2-b6a5-3bc69239e291"
      },
      "outputs": [
        {
          "name": "stderr",
          "output_type": "stream",
          "text": [
            "                                                                                \r"
          ]
        },
        {
          "data": {
            "text/plain": [
              "296851"
            ]
          },
          "execution_count": 72,
          "metadata": {},
          "output_type": "execute_result"
        }
      ],
      "source": [
        "sorted_similars_rdd = similars_rdd.sortByKey()\n",
        "sorted_similars_rdd.count()"
      ]
    },
    {
      "cell_type": "code",
      "execution_count": null,
      "id": "e9557c93-e7fa-40ce-a012-1eb0cabfee69",
      "metadata": {
        "id": "e9557c93-e7fa-40ce-a012-1eb0cabfee69",
        "outputId": "e0b5fb2b-e521-4665-a4c0-a3a39db09653"
      },
      "outputs": [
        {
          "name": "stderr",
          "output_type": "stream",
          "text": [
            "                                                                                \r"
          ]
        },
        {
          "data": {
            "text/plain": [
              "[(1.386750490563073, '855095592'),\n",
              " (1.386750490563073, '2564151662'),\n",
              " (1.386750490563073, '1572479734335815684'),\n",
              " (1.386750490563073, '1206642366830002179'),\n",
              " (1.386750490563073, '1152293110212263937'),\n",
              " (1.386750490563073, '1151820549653446656'),\n",
              " (1.386750490563073, '1141720339'),\n",
              " (1.3416407864998738, '941203650818560000'),\n",
              " (1.3416407864998738, '927327889'),\n",
              " (1.3416407864998738, '880550727680184320'),\n",
              " (1.3416407864998738, '860039158370316288'),\n",
              " (1.3416407864998738, '818518646968422400'),\n",
              " (1.3416407864998738, '801430424'),\n",
              " (1.3416407864998738, '75530244'),\n",
              " (1.3416407864998738, '720019748780699649'),\n",
              " (1.3416407864998738, '712037416345989123'),\n",
              " (1.3416407864998738, '36924087'),\n",
              " (1.3416407864998738, '36024428'),\n",
              " (1.3416407864998738, '30186494'),\n",
              " (1.3416407864998738, '2421831930')]"
            ]
          },
          "execution_count": 73,
          "metadata": {},
          "output_type": "execute_result"
        }
      ],
      "source": [
        "similar_users = sorted_similars_rdd.top(20)\n",
        "similar_users"
      ]
    },
    {
      "cell_type": "code",
      "execution_count": null,
      "id": "192fc6ca-eb43-47d8-bd7a-87d4741779cc",
      "metadata": {
        "id": "192fc6ca-eb43-47d8-bd7a-87d4741779cc",
        "outputId": "1e3308f2-1c18-467d-a728-7f5deffd76ac"
      },
      "outputs": [
        {
          "name": "stderr",
          "output_type": "stream",
          "text": [
            "                                                                                \r"
          ]
        }
      ],
      "source": [
        "recomm_tweets_ids = grouped_rdd.flatMap(lambda x: similar_tweets_score(similar_users,x)).collect()"
      ]
    },
    {
      "cell_type": "code",
      "execution_count": null,
      "id": "a00f4f78-3c36-4c9c-b43a-9f677b5ee022",
      "metadata": {
        "id": "a00f4f78-3c36-4c9c-b43a-9f677b5ee022"
      },
      "outputs": [],
      "source": [
        "recomm_tweets_ids.sort(key=lambda a: a[0],reverse = True)"
      ]
    },
    {
      "cell_type": "code",
      "execution_count": null,
      "id": "f3999988-76ea-48f5-99b6-4bd8a18048c0",
      "metadata": {
        "id": "f3999988-76ea-48f5-99b6-4bd8a18048c0",
        "outputId": "ab44cd30-c8cc-4657-d524-856d9373b1d9"
      },
      "outputs": [
        {
          "data": {
            "text/plain": [
              "[(4.160251471689219, '1736313883789312092'),\n",
              " (4.160251471689219, '1734302996685582511'),\n",
              " (4.160251471689219, '1736543598210908218'),\n",
              " (4.160251471689219, '1736191078921826671'),\n",
              " (4.160251471689219, '1736194209722352050'),\n",
              " (4.160251471689219, '1736196909767745970'),\n",
              " (4.160251471689219, '1735911029438083239'),\n",
              " (4.160251471689219, '1734100975072207178'),\n",
              " (4.160251471689219, '1736660798875881627'),\n",
              " (4.160251471689219, '1734851686357782537'),\n",
              " (4.160251471689219, '1734118177137717730'),\n",
              " (4.160251471689219, '1735933230006558790'),\n",
              " (4.160251471689219, '1734597062904140077'),\n",
              " (4.160251471689219, '1734599210136154571'),\n",
              " (4.160251471689219, '1736693297865806316'),\n",
              " (4.160251471689219, '1736693537289228516'),\n",
              " (4.160251471689219, '1735961908656689410'),\n",
              " (4.160251471689219, '1736321041838879073'),\n",
              " (4.160251471689219, '1734158029661077888'),\n",
              " (4.160251471689219, '1736336769023385988')]"
            ]
          },
          "execution_count": 76,
          "metadata": {},
          "output_type": "execute_result"
        }
      ],
      "source": [
        "recommend_tweets_ids = recomm_tweets_ids[0:20]\n",
        "recommend_tweets_ids"
      ]
    },
    {
      "cell_type": "code",
      "execution_count": null,
      "id": "4df16e77-05d4-4ba6-95f6-3adb238bd2bb",
      "metadata": {
        "id": "4df16e77-05d4-4ba6-95f6-3adb238bd2bb",
        "outputId": "4c1a32e0-9e1e-4c57-e385-02cae5c6707a"
      },
      "outputs": [
        {
          "name": "stderr",
          "output_type": "stream",
          "text": [
            "                                                                                \r"
          ]
        },
        {
          "data": {
            "text/plain": [
              "[('آخیشششش\\nفی شبکه بیتکوین یه نفسی کشید :))',),\n",
              " ('توکن $SYMM خیلی چیز جالبیه\\nهمزمان و بصورت دوگانه روی هردو پروتکل BRC20 و CBRC20 اینسکرایب میشه.\\n\\nاولین هست در نوع خودش!',),\n",
              " ('بخدا این انصاف نیست تایمی که ما باید بخوابیم، آمریکاییا بیدارن همه چیو پامپ میکنن\\n\\nخب من الان ساعت ۵ صبح با چه حالی بلند بشم اتر بریزم تو ولت؟😑',),\n",
              " ('چنان حجم پولی تزریق شده توی اکوسیستم بیتکوین که باور نمیکنید!!\\nعجیب و غریب!\\n\\nبعد ما میریم تسک لینیا میزنیم:))',),\n",
              " ('متاسفانه تراکنشهای خودم روی $UTXO تایید نشد و invalid بودن\\nولی اگر مینت کردید الان براحتی میتونید ۱۸۰۰ دلار بفروشید :))',),\n",
              " ('چه عجب بالاخره یه کندل قرمز هم دیدیم  :)\\n\\nولکنش به میدلاین بود (قبلا چارتشو تو کانال گذاشته بودم)\\n\\nببینیم کف، قیمت رو حمایت میکنه یا باید بریم پایینتر…\\n\\n#bitcoin https://t.co/97we1i01xC',),\n",
              " ('اینسکریپشن روی هر بلاکچینی بجز بیتکوین،\\nارزش خرید و یا نگهداری نداره!!',),\n",
              " ('حواستون به #SRC721 باشه\\nپروتکل توکنهای NFT روی SRC20\\n\\nخبرهای خوبی براش در راهه…',),\n",
              " ('دامیننس تتر جای خیلی حساسی هست!\\n#USDT.D https://t.co/UBB1eBubL3',),\n",
              " ('در یکماه گذشته چه پروژه هایی معرفی کردم؟\\n\\nتوکنها:\\n#AVAX 3.5x\\n#ATOM 1.6x\\n$TIA 1.7x\\n\\nروی شبکه بیتکوین:\\n\\n$STAMP 35x\\n#SRC20 48x\\n$UTXO 14x\\n$SATO 2.5x\\n\\nاینم که جدیده ولی از همین الان داره میترکونه :\\n$COM 2.5x\\n\\nتونستید از این پروژه ها سود بگیرید؟\\nبیاید بهم بگید خوشحال بشم\\n\\nاگه استفاده کردید و سود خوبی داشتید، دونیت هم میتونید انجام بدید.(به دایرکت توییتر مراجعه کنید) ❤️ 🌹',),\n",
              " ('این ترند صعودیه که یکسال هست دامیننس رو نگه داشته.\\nاگر به پایین شکسته بشه، آلتسیزنی در پیش داریم که بیا و ببین :))\\n\\nجوری که تمام رشدهایی که تا الان دیدین در مقابلش اصلا به حساب نمیان! https://t.co/p8StFdHubZ',),\n",
              " ('این ترند صعودیه که یکسال هست دامیننس رو نگه داشته.\\nاگر به پایین شکسته بشه، آلتسیزنی در پیش داریم که بیا و ببین :))\\n\\nجوری که تمام رشدهایی که تا الان دیدین در مقابلش اصلا به حساب نمیان!\\n#bitcoinDominance https://t.co/uHTbfNbm3Q',),\n",
              " ('قرار بر این بود پست هوشمند بشه ولی الان تبدیل شده به رقیب مخابرات توی فشل بودن.\\nتاخیر در تحویل\\nبسته های له و لورده\\nعدم آپدیت وضعیت مرسوله\\nبسته\\u200cای که تحویل نشده رو پستچی محترم میزنه تحویل گردیده!',),\n",
              " ('حالا اگه مثل کره شمالی اینترنت و ارتباطات خارجی رو قطع کرده بودند، این مشکلات هک پیش نمیومد!\\n\\nهمش تقصیر شما مردمه که نمیزارید کارشونو بکنند دیگه :))',),\n",
              " ('حالا اگه مثل کره شمالی اینترنت و ارتباطات خارجی رو کاملا قطع کرده بودند، این مشکلات هک پیش نمیومد!\\n\\nهمش تقصیر شما مردمه که نمیزارید کارشونو بکنند دیگه :))',),\n",
              " ('حسرت امروز؟\\n\\nچرا پانک بیتمپ قشنگم رو زود فروختم 😞\\n@BitmapPunk',),\n",
              " ('ترند جدید مارکت نه NFT بود و نه لایه ۲\\n\\nبلکه لایه های انگل وار inscription روی تمام بلاکچینها بودن!',),\n",
              " ('اعتراض مدنی فقط به قضیه #صادق_بوقی تعلق میگیره؟\\n\\nمالیات سنگین، سن بازنشستگی ناجوانمردانه، تورم و گرونی، برده روسیه شدن و تاراج و حراج کردن سرمایه های ملی، مخالفت نداشت؟!\\n\\nبهتر نبود این انرژی رو صرف اعتراض به چیزهای مهمتری میکردیم؟',),\n",
              " ('شبکه بیتکوین زاییده!!\\n\\nبخاطر فی بالا، معامله ها بسیار کم شده و قیمتها در حال ریزشه!\\n\\nبازی دو سر باخت!',),\n",
              " ('یادش بخیر یه دوره\\u200cای هرکی یه وبلاگ داشت و توش شعر و متن\\u200cهای عاشقانه منتشر می\\u200cکرد',)]"
            ]
          },
          "execution_count": 77,
          "metadata": {},
          "output_type": "execute_result"
        }
      ],
      "source": [
        "recommended_tweets = parsed_rdd.flatMap(lambda x: recommended_tweets_parser(recommend_tweets_ids,x))\n",
        "recommended_tweets.collect()"
      ]
    },
    {
      "cell_type": "markdown",
      "id": "330300e2-5e73-4470-b978-ba70aa6b025a",
      "metadata": {
        "id": "330300e2-5e73-4470-b978-ba70aa6b025a"
      },
      "source": [
        "***\n",
        "# $\\text{Type #5 User}$"
      ]
    },
    {
      "cell_type": "code",
      "execution_count": null,
      "id": "35a3b05b-884e-4352-b7be-480c4fe25315",
      "metadata": {
        "id": "35a3b05b-884e-4352-b7be-480c4fe25315",
        "outputId": "dffe5f0f-b30b-41aa-c5a1-823f082cd446"
      },
      "outputs": [
        {
          "name": "stderr",
          "output_type": "stream",
          "text": [
            "                                                                                \r"
          ]
        },
        {
          "data": {
            "text/plain": [
              "('1693973461306109952',\n",
              " [('1574904470835798041', '1734442494039826873', 2),\n",
              "  ('1574904470835798041', '1734883099647914204', 2),\n",
              "  ('1574904470835798041', '1735771172472492519', 2),\n",
              "  ('1693973461306109952', '1736853602969280923', 3),\n",
              "  ('1693973461306109952', '1736855151917334935', 3),\n",
              "  ('1693973461306109952', '1735069630308266029', 3),\n",
              "  ('1693973461306109952', '1735401606160785610', 3),\n",
              "  ('1693973461306109952', '1735071498032058504', 3),\n",
              "  ('1693973461306109952', '1735071498032058504', 2),\n",
              "  ('1574904470835798041', '1735403820757426674', 2)])"
            ]
          },
          "execution_count": 131,
          "metadata": {},
          "output_type": "execute_result"
        }
      ],
      "source": [
        "target_user = grouped_rdd.takeSample(False,1,91)[0]\n",
        "target_user"
      ]
    },
    {
      "cell_type": "code",
      "execution_count": null,
      "id": "134ae398-59f9-478e-8546-c8f82a1dad57",
      "metadata": {
        "id": "134ae398-59f9-478e-8546-c8f82a1dad57",
        "outputId": "f7904cf8-2681-40d7-966e-4de4781b02dc"
      },
      "outputs": [
        {
          "name": "stderr",
          "output_type": "stream",
          "text": [
            "                                                                                \r"
          ]
        },
        {
          "data": {
            "text/plain": [
              "[('«تو » دیگر \\nحتی «تو» نیستی\\n«شما» شده اید\\nو این دنیای مودب جای «ما» نیست\\nما دیوانه شده ها \\n#افشین_خماند',\n",
              "  'generated'),\n",
              " ('تمام سیاره ها را گشتم تا به جایی رسیدم که خالی از هر کسی بود و آنگاه دلم آرام گریست...\\nاز آن روز به بعد شدم باغبان باغچه ی کوچکم با یک گل...\\nگلم قرمز ، بنفش و اکنون آبی را در خود دارد...',\n",
              "  'generated'),\n",
              " ('امروز خواستم از عشق بگم، دیدم عشقی نیست! خواستم از عاشقونه ها حرف بزنم دیدم چیزی نیست، یادم اومد از دل تنگ بنویسم که فهمیدم...!!\\nنه! هیچی، چیزی نفهمیدم، فقط خوابیدم. همین...',\n",
              "  'generated'),\n",
              " ('اگه دستت بی وزن شد، حرکتش دادی و نتونستی لمسش کنی، باختی\\nاگه چشات صدات کرد، سرتو بلند کردی ندیدیش، باختی\\nاگه گوشات هوشیار شد، تیزش کردی و صداش رو نشنیدی، باختی\\nاگه دلت تنگ شد، موبایلت رو ورداشتی، زنگش زدی، جوابت رو نداد، باختی\\nو امشب من بازنده ترینم...',\n",
              "  'generated'),\n",
              " ('یه روز یکی از آدمای اطرافم که دنیاش خیلی رنگیه بهم گفت: چقدر دوسم داری!؟\\nخیلی زود جواب دادم دوس داشتن که اندازه نداره رفیق...\\nگفت یعنی چی!؟ گفتم دوس داشتن یا هست یا نیست، اندازه نداره.\\nگفت باز نفهمیدم چی میگی!!! گفتم هر وقت کسی رو دوس داشتی متوجه میشی. یهو داد زد و گفت آهان...',\n",
              "  'generated'),\n",
              " ('از بوی تنت فهمیدم\\nشاید خیلی دیر رسیدم خیلی دیر \\nاما مگر قانون این نبود که هر آنچه دیر می آید\\nعاقبت روزی به خانه ی ما خواهد رسید؟…',\n",
              "  'generated')]"
            ]
          },
          "execution_count": 132,
          "metadata": {},
          "output_type": "execute_result"
        }
      ],
      "source": [
        "target_user_tweets = parsed_rdd.flatMap(lambda x: target_user_tweets_parser(target_user,x))\n",
        "target_user_tweets.collect()"
      ]
    },
    {
      "cell_type": "code",
      "execution_count": null,
      "id": "480f52a1-354e-432d-b390-241a19f99209",
      "metadata": {
        "id": "480f52a1-354e-432d-b390-241a19f99209",
        "outputId": "badbaa41-e951-415b-c4fa-f24d3cffb90c"
      },
      "outputs": [
        {
          "name": "stderr",
          "output_type": "stream",
          "text": [
            "                                                                                \r"
          ]
        },
        {
          "data": {
            "text/plain": [
              "296851"
            ]
          },
          "execution_count": 133,
          "metadata": {},
          "output_type": "execute_result"
        }
      ],
      "source": [
        "similars_rdd = grouped_rdd.flatMap(lambda x:pearson_coeff(target_user,x))\n",
        "similars_rdd.count()"
      ]
    },
    {
      "cell_type": "code",
      "execution_count": null,
      "id": "1c568a67-8b4d-494b-a763-aef9c2ed463a",
      "metadata": {
        "id": "1c568a67-8b4d-494b-a763-aef9c2ed463a",
        "outputId": "292c693b-7607-4554-e9ff-c23f4e83f40b"
      },
      "outputs": [
        {
          "name": "stderr",
          "output_type": "stream",
          "text": [
            "                                                                                \r"
          ]
        },
        {
          "data": {
            "text/plain": [
              "296851"
            ]
          },
          "execution_count": 134,
          "metadata": {},
          "output_type": "execute_result"
        }
      ],
      "source": [
        "sorted_similars_rdd = similars_rdd.sortByKey()\n",
        "sorted_similars_rdd.count()"
      ]
    },
    {
      "cell_type": "code",
      "execution_count": null,
      "id": "8d7a297f-9847-4a99-aa9b-f86fe779afcd",
      "metadata": {
        "id": "8d7a297f-9847-4a99-aa9b-f86fe779afcd",
        "outputId": "ed618fa8-60f0-4c9a-9600-7a7141ff1c26"
      },
      "outputs": [
        {
          "name": "stderr",
          "output_type": "stream",
          "text": [
            "                                                                                \r"
          ]
        },
        {
          "data": {
            "text/plain": [
              "[(1.0000000000000002, '1693973461306109952'),\n",
              " (1.0, '1574904470835798041'),\n",
              " (0, '999996903185100800'),\n",
              " (0, '99999538'),\n",
              " (0, '999995055090929664'),\n",
              " (0, '999988080819015680'),\n",
              " (0, '999970696435523584'),\n",
              " (0, '999964377922134016'),\n",
              " (0, '999963219425931266'),\n",
              " (0, '999959604556697602'),\n",
              " (0, '999956594686349317'),\n",
              " (0, '999953030060675072'),\n",
              " (0, '999952212783783939'),\n",
              " (0, '999951354620727296'),\n",
              " (0, '999951276'),\n",
              " (0, '999928626987569152'),\n",
              " (0, '999925604957937665'),\n",
              " (0, '999924334402531328'),\n",
              " (0, '999922321816080386'),\n",
              " (0, '999918484485128195')]"
            ]
          },
          "execution_count": 135,
          "metadata": {},
          "output_type": "execute_result"
        }
      ],
      "source": [
        "similar_users = sorted_similars_rdd.top(20)\n",
        "similar_users"
      ]
    },
    {
      "cell_type": "code",
      "execution_count": null,
      "id": "8378842e-0f4f-4d23-a9de-9f6d5f6d750e",
      "metadata": {
        "id": "8378842e-0f4f-4d23-a9de-9f6d5f6d750e",
        "outputId": "e30ae20f-ddb6-4669-8b90-82263e33c8ad"
      },
      "outputs": [
        {
          "name": "stderr",
          "output_type": "stream",
          "text": [
            "                                                                                \r"
          ]
        }
      ],
      "source": [
        "recomm_tweets_ids = grouped_rdd.flatMap(lambda x: similar_tweets_score(similar_users,x)).collect()"
      ]
    },
    {
      "cell_type": "code",
      "execution_count": null,
      "id": "621c8340-3ad5-4717-92f6-5b9e06df1ec3",
      "metadata": {
        "id": "621c8340-3ad5-4717-92f6-5b9e06df1ec3"
      },
      "outputs": [],
      "source": [
        "recomm_tweets_ids.sort(key=lambda a: a[0],reverse = True)"
      ]
    },
    {
      "cell_type": "code",
      "execution_count": null,
      "id": "1e177a31-691a-4951-b0fe-2d91990cf053",
      "metadata": {
        "id": "1e177a31-691a-4951-b0fe-2d91990cf053",
        "outputId": "afa49c4a-519d-4eb9-f535-a8cc8f3e1ef5"
      },
      "outputs": [
        {
          "data": {
            "text/plain": [
              "[(3.000000000000001, '1736853602969280923'),\n",
              " (3.000000000000001, '1736855151917334935'),\n",
              " (3.000000000000001, '1735069630308266029'),\n",
              " (3.000000000000001, '1735401606160785610'),\n",
              " (3.000000000000001, '1735071498032058504'),\n",
              " (3.0, '1734042842803110258'),\n",
              " (3.0, '1736261559083491431'),\n",
              " (3.0, '1735326293720228136'),\n",
              " (3.0, '1736124195354890571'),\n",
              " (3.0, '1735771172472492519'),\n",
              " (3.0, '1735406823128125835'),\n",
              " (3.0, '1735410144727478743'),\n",
              " (3.0, '1735422143100244168'),\n",
              " (2.0000000000000004, '1734442494039826873'),\n",
              " (2.0000000000000004, '1734883099647914204'),\n",
              " (2.0000000000000004, '1735771172472492519'),\n",
              " (2.0000000000000004, '1735071498032058504'),\n",
              " (2.0000000000000004, '1735403820757426674'),\n",
              " (0, '1735767625915859133'),\n",
              " (0, '1735872482198860152')]"
            ]
          },
          "execution_count": 138,
          "metadata": {},
          "output_type": "execute_result"
        }
      ],
      "source": [
        "recommend_tweets_ids = recomm_tweets_ids[0:20]\n",
        "recommend_tweets_ids"
      ]
    },
    {
      "cell_type": "code",
      "execution_count": null,
      "id": "219668e2-6eba-49eb-a60c-930b5c064f49",
      "metadata": {
        "id": "219668e2-6eba-49eb-a60c-930b5c064f49",
        "outputId": "4a1572ca-a238-4422-f165-45090b871833"
      },
      "outputs": [
        {
          "name": "stderr",
          "output_type": "stream",
          "text": [
            "                                                                                \r"
          ]
        },
        {
          "data": {
            "text/plain": [
              "[('تو\\nآنجایی\\nو \\n\"آنجا\" \\nنمی داند \\nکه\\nچقدر\\nخوشبخت\\nاست!',),\n",
              " ('این شریفی\\u200cمقدم که مجری محبوب آخونده و تو همه شبکه\\u200cها هست(منم بلاک کرده) امروز علنا گوشی آیفون ۱۳پرومکس تو برنامه زنده گرفته دستش\\nاینا دیگه تعارف رو کنار گذاشتن و به ریش ملت میخندن',),\n",
              " ('بخیر ترین صبح قطعا اونی که \\nکنار کسی که دوسش داری شروع میشه…',),\n",
              " ('آنجا که تو نیستی، کجا خواهد بود…',),\n",
              " ('«تو » دیگر \\nحتی «تو» نیستی\\n«شما» شده اید\\nو این دنیای مودب جای «ما» نیست\\nما دیوانه شده ها \\n#افشین_خماند',),\n",
              " ('تمام سیاره ها را گشتم تا به جایی رسیدم که خالی از هر کسی بود و آنگاه دلم آرام گریست...\\nاز آن روز به بعد شدم باغبان باغچه ی کوچکم با یک گل...\\nگلم قرمز ، بنفش و اکنون آبی را در خود دارد...',),\n",
              " ('گمان میکنی پایان است ،\\nو خدا همه چیز را درست میکند…',),\n",
              " ('امروز خواستم از عشق بگم، دیدم عشقی نیست! خواستم از عاشقونه ها حرف بزنم دیدم چیزی نیست، یادم اومد از دل تنگ بنویسم که فهمیدم...!!\\nنه! هیچی، چیزی نفهمیدم، فقط خوابیدم. همین...',),\n",
              " ('اگه دستت بی وزن شد، حرکتش دادی و نتونستی لمسش کنی، باختی\\nاگه چشات صدات کرد، سرتو بلند کردی ندیدیش، باختی\\nاگه گوشات هوشیار شد، تیزش کردی و صداش رو نشنیدی، باختی\\nاگه دلت تنگ شد، موبایلت رو ورداشتی، زنگش زدی، جوابت رو نداد، باختی\\nو امشب من بازنده ترینم...',),\n",
              " ('یه روز یکی از آدمای اطرافم که دنیاش خیلی رنگیه بهم گفت: چقدر دوسم داری!؟\\nخیلی زود جواب دادم دوس داشتن که اندازه نداره رفیق...\\nگفت یعنی چی!؟ گفتم دوس داشتن یا هست یا نیست، اندازه نداره.\\nگفت باز نفهمیدم چی میگی!!! گفتم هر وقت کسی رو دوس داشتی متوجه میشی. یهو داد زد و گفت آهان...',),\n",
              " ('@Orwellian2017k استخدام پیمانی پلیس تنها جا دست خیلیها برای رسیدن به حداقلهاس، فاسد هستن اما اکثرا شر نیستن،\\nبجز واحدهای نوپو، اطلاعات، یگان ویژه و امثالشون و اشخاص سرسپرده.\\nاهداف آسانی اند اما تاثیری بر هسته اصلی سرکوب(سپاه/سرسپرده/اتش به اختیار) نداره؛\\nاز قدیم گفتن مرگ جزئی از این شغله.',),\n",
              " ('از بوی تنت فهمیدم\\nشاید خیلی دیر رسیدم خیلی دیر \\nاما مگر قانون این نبود که هر آنچه دیر می آید\\nعاقبت روزی به خانه ی ما خواهد رسید؟…',),\n",
              " ('بغلم کن همه جا\\nشهر حسودی بکند…',),\n",
              " ('ای دیدن تو دین من\\nای روی تو ایمان من\\nای هست تو پنهان شده\\nدر هستی پنهان من…',),\n",
              " ('کار می کنم و به تو فکر میکنم\\nبه خانه برمی گردم وبه تو فکر میکنم \\nبه آن زن تلفن میکنم و درعین حال به تو فکر میکنم \\nبه او می گویم حالت چطور است؟ و به تو فکر میکنم\\nکجا برویم ؟وبه تو فکر میکنم \\nبه او لبخند می زنم ،چشمانم را می بندم و به تو فکر می کنم...',)]"
            ]
          },
          "execution_count": 139,
          "metadata": {},
          "output_type": "execute_result"
        }
      ],
      "source": [
        "recommended_tweets = parsed_rdd.flatMap(lambda x: recommended_tweets_parser(recommend_tweets_ids,x))\n",
        "recommended_tweets.collect()"
      ]
    },
    {
      "cell_type": "code",
      "execution_count": null,
      "id": "abbb0c47-ce2b-4842-9b67-9c9e26e940b8",
      "metadata": {
        "id": "abbb0c47-ce2b-4842-9b67-9c9e26e940b8"
      },
      "outputs": [],
      "source": []
    }
  ],
  "metadata": {
    "kernelspec": {
      "display_name": "bigdataKernel",
      "language": "python",
      "name": "bigdatakernel"
    },
    "language_info": {
      "codemirror_mode": {
        "name": "ipython",
        "version": 3
      },
      "file_extension": ".py",
      "mimetype": "text/x-python",
      "name": "python",
      "nbconvert_exporter": "python",
      "pygments_lexer": "ipython3",
      "version": "3.12.0"
    },
    "colab": {
      "provenance": [],
      "toc_visible": true
    }
  },
  "nbformat": 4,
  "nbformat_minor": 5
}